{
 "cells": [
  {
   "cell_type": "code",
   "execution_count": 1,
   "id": "fec9a3d9",
   "metadata": {},
   "outputs": [],
   "source": [
    "import tensorflow as tf"
   ]
  },
  {
   "cell_type": "code",
   "execution_count": 2,
   "id": "3193c6f2",
   "metadata": {},
   "outputs": [],
   "source": [
    "import numpy as np"
   ]
  },
  {
   "cell_type": "code",
   "execution_count": 4,
   "id": "1555950d",
   "metadata": {},
   "outputs": [],
   "source": [
    "no1Ar = np.load(\"NoPeople1A_realCIR.npy\")"
   ]
  },
  {
   "cell_type": "code",
   "execution_count": 5,
   "id": "6f080311",
   "metadata": {},
   "outputs": [],
   "source": [
    "no1Ai = np.load(\"NoPeople1A_imagCIR.npy\")"
   ]
  },
  {
   "cell_type": "code",
   "execution_count": 6,
   "id": "30045ebf",
   "metadata": {},
   "outputs": [],
   "source": [
    "no1Br = np.load(\"NoPeople1B_realCIR.npy\")"
   ]
  },
  {
   "cell_type": "code",
   "execution_count": 7,
   "id": "e21cc44b",
   "metadata": {},
   "outputs": [],
   "source": [
    "no1Bi = np.load(\"NoPeople1B_imagCIR.npy\")"
   ]
  },
  {
   "cell_type": "code",
   "execution_count": 8,
   "id": "96be4a1c",
   "metadata": {},
   "outputs": [],
   "source": [
    "one1Ar = np.load(\"OnePeople1A_realCIR.npy\")"
   ]
  },
  {
   "cell_type": "code",
   "execution_count": 9,
   "id": "8b6b21c5",
   "metadata": {},
   "outputs": [],
   "source": [
    "one1Ai = np.load(\"OnePeople1A_imagCIR.npy\")"
   ]
  },
  {
   "cell_type": "code",
   "execution_count": 10,
   "id": "d04e487d",
   "metadata": {},
   "outputs": [],
   "source": [
    "one1Br = np.load(\"OnePeople1B_realCIR.npy\")"
   ]
  },
  {
   "cell_type": "code",
   "execution_count": 11,
   "id": "7e01b01f",
   "metadata": {},
   "outputs": [],
   "source": [
    "one1Bi = np.load(\"OnePeople1B_imagCIR.npy\")"
   ]
  },
  {
   "cell_type": "code",
   "execution_count": 12,
   "id": "2aa47323",
   "metadata": {},
   "outputs": [
    {
     "data": {
      "text/plain": [
       "(7048, 66)"
      ]
     },
     "execution_count": 12,
     "metadata": {},
     "output_type": "execute_result"
    }
   ],
   "source": [
    "no1Ar.shape"
   ]
  },
  {
   "cell_type": "code",
   "execution_count": 13,
   "id": "f79cbb9b",
   "metadata": {},
   "outputs": [
    {
     "data": {
      "text/plain": [
       "(7048, 66)"
      ]
     },
     "execution_count": 13,
     "metadata": {},
     "output_type": "execute_result"
    }
   ],
   "source": [
    "no1Ai.shape"
   ]
  },
  {
   "cell_type": "code",
   "execution_count": 14,
   "id": "4fcb2da6",
   "metadata": {},
   "outputs": [
    {
     "data": {
      "text/plain": [
       "(7104, 66)"
      ]
     },
     "execution_count": 14,
     "metadata": {},
     "output_type": "execute_result"
    }
   ],
   "source": [
    "no1Br.shape"
   ]
  },
  {
   "cell_type": "code",
   "execution_count": 15,
   "id": "26b45ee8",
   "metadata": {},
   "outputs": [
    {
     "data": {
      "text/plain": [
       "(7104, 66)"
      ]
     },
     "execution_count": 15,
     "metadata": {},
     "output_type": "execute_result"
    }
   ],
   "source": [
    "no1Bi.shape"
   ]
  },
  {
   "cell_type": "code",
   "execution_count": 20,
   "id": "a2130714",
   "metadata": {},
   "outputs": [
    {
     "data": {
      "text/plain": [
       "array([[  75.,    1.,   34., ...,  325.,  304.,  239.],\n",
       "       [  75.,    3.,  100., ...,  330.,  319.,  122.],\n",
       "       [  75.,    5., -128., ..., -140.,  -72.,  -59.],\n",
       "       ...,\n",
       "       [ 227.,    3., -115., ..., -230., -202., -143.],\n",
       "       [ 227.,    5.,  -87., ..., -220., -251., -206.],\n",
       "       [ 227.,    7.,   61., ...,  -76., -151., -159.]])"
      ]
     },
     "execution_count": 20,
     "metadata": {},
     "output_type": "execute_result"
    }
   ],
   "source": [
    "no1Ar"
   ]
  },
  {
   "cell_type": "code",
   "execution_count": 21,
   "id": "e947e974",
   "metadata": {},
   "outputs": [
    {
     "data": {
      "text/plain": [
       "array([[  78.,   79.,  183., ..., -367., -711., -770.],\n",
       "       [  78.,   81.,   34., ...,   76., -139., -343.],\n",
       "       [  78.,   83.,  -80., ...,  200.,  334.,  235.],\n",
       "       ...,\n",
       "       [ 221.,   97.,  167., ..., -417., -543., -492.],\n",
       "       [ 221.,   99.,  -62., ..., -251., -520., -722.],\n",
       "       [ 222.,    1.,  172., ..., -332., -508., -571.]])"
      ]
     },
     "execution_count": 21,
     "metadata": {},
     "output_type": "execute_result"
    }
   ],
   "source": [
    "no1Br"
   ]
  },
  {
   "cell_type": "code",
   "execution_count": 42,
   "id": "569e73a4",
   "metadata": {},
   "outputs": [],
   "source": [
    "realA = np.empty((0,66))\n",
    "imagA = np.empty((0,66))\n",
    "realB = np.empty((0,66))\n",
    "imagB = np.empty((0,66))"
   ]
  },
  {
   "cell_type": "code",
   "execution_count": 30,
   "id": "9070c96d",
   "metadata": {},
   "outputs": [],
   "source": [
    "real = np.vstack((real,no1Ar[0]))"
   ]
  },
  {
   "cell_type": "code",
   "execution_count": 32,
   "id": "a03e9a64",
   "metadata": {},
   "outputs": [
    {
     "data": {
      "text/plain": [
       "(1, 66)"
      ]
     },
     "execution_count": 32,
     "metadata": {},
     "output_type": "execute_result"
    }
   ],
   "source": [
    "real.shape"
   ]
  },
  {
   "cell_type": "code",
   "execution_count": 43,
   "id": "2cbb2705",
   "metadata": {
    "scrolled": true
   },
   "outputs": [],
   "source": [
    "for i in range(no1Ar.shape[0]):\n",
    "    for j in range(no1Br.shape[0]):\n",
    "        if no1Ar[i,0]==no1Br[j,0] and no1Ar[i,1]==no1Br[j,1]:\n",
    "            realA = np.vstack((realA,no1Ar[i]))\n",
    "            realB = np.vstack((realB,no1Br[j]))\n",
    "            imagA = np.vstack((imagA,no1Ai[i]))\n",
    "            imagB = np.vstack((imagB,no1Bi[j]))"
   ]
  },
  {
   "cell_type": "code",
   "execution_count": 44,
   "id": "4ea3e116",
   "metadata": {},
   "outputs": [
    {
     "data": {
      "text/plain": [
       "(3872, 66)"
      ]
     },
     "execution_count": 44,
     "metadata": {},
     "output_type": "execute_result"
    }
   ],
   "source": [
    "realA.shape"
   ]
  },
  {
   "cell_type": "code",
   "execution_count": 45,
   "id": "7f2f80b7",
   "metadata": {},
   "outputs": [
    {
     "data": {
      "text/plain": [
       "(3872, 66)"
      ]
     },
     "execution_count": 45,
     "metadata": {},
     "output_type": "execute_result"
    }
   ],
   "source": [
    "realB.shape"
   ]
  },
  {
   "cell_type": "code",
   "execution_count": 46,
   "id": "f8f65832",
   "metadata": {},
   "outputs": [
    {
     "data": {
      "text/plain": [
       "(3872, 66)"
      ]
     },
     "execution_count": 46,
     "metadata": {},
     "output_type": "execute_result"
    }
   ],
   "source": [
    "imagA.shape"
   ]
  },
  {
   "cell_type": "code",
   "execution_count": 47,
   "id": "714440eb",
   "metadata": {},
   "outputs": [
    {
     "data": {
      "text/plain": [
       "(3872, 66)"
      ]
     },
     "execution_count": 47,
     "metadata": {},
     "output_type": "execute_result"
    }
   ],
   "source": [
    "imagB.shape"
   ]
  },
  {
   "cell_type": "code",
   "execution_count": 61,
   "id": "2decd111",
   "metadata": {},
   "outputs": [],
   "source": [
    "real = np.empty((0,128))\n",
    "imag = np.empty((0,128))"
   ]
  },
  {
   "cell_type": "code",
   "execution_count": 62,
   "id": "17ef5a80",
   "metadata": {},
   "outputs": [],
   "source": [
    "real = np.concatenate((realA[:,2:],realB[:,2:]),axis=1)"
   ]
  },
  {
   "cell_type": "code",
   "execution_count": 63,
   "id": "e5958390",
   "metadata": {},
   "outputs": [],
   "source": [
    "imag = np.concatenate((imagA[:,2:],imagB[:,2:]),axis=1)"
   ]
  },
  {
   "cell_type": "code",
   "execution_count": 64,
   "id": "5191d854",
   "metadata": {},
   "outputs": [
    {
     "data": {
      "text/plain": [
       "(3872, 128)"
      ]
     },
     "execution_count": 64,
     "metadata": {},
     "output_type": "execute_result"
    }
   ],
   "source": [
    "real.shape"
   ]
  },
  {
   "cell_type": "code",
   "execution_count": 65,
   "id": "839d0d7b",
   "metadata": {},
   "outputs": [
    {
     "data": {
      "text/plain": [
       "(3872, 128)"
      ]
     },
     "execution_count": 65,
     "metadata": {},
     "output_type": "execute_result"
    }
   ],
   "source": [
    "imag.shape"
   ]
  },
  {
   "cell_type": "code",
   "execution_count": 66,
   "id": "ed0079f8",
   "metadata": {},
   "outputs": [],
   "source": [
    "realA = np.empty((0,66))\n",
    "imagA = np.empty((0,66))\n",
    "realB = np.empty((0,66))\n",
    "imagB = np.empty((0,66))"
   ]
  },
  {
   "cell_type": "code",
   "execution_count": 67,
   "id": "53cd7cc9",
   "metadata": {},
   "outputs": [],
   "source": [
    "for i in range(one1Ar.shape[0]):\n",
    "    for j in range(one1Br.shape[0]):\n",
    "        if one1Ar[i,0]==one1Br[j,0] and one1Ar[i,1]==one1Br[j,1]:\n",
    "            realA = np.vstack((realA,one1Ar[i]))\n",
    "            realB = np.vstack((realB,one1Br[j]))\n",
    "            imagA = np.vstack((imagA,one1Ai[i]))\n",
    "            imagB = np.vstack((imagB,one1Bi[j]))"
   ]
  },
  {
   "cell_type": "code",
   "execution_count": 68,
   "id": "1ee43a40",
   "metadata": {},
   "outputs": [
    {
     "name": "stdout",
     "output_type": "stream",
     "text": [
      "(3069, 66) (3069, 66) (3069, 66) (3069, 66)\n"
     ]
    }
   ],
   "source": [
    "print(realA.shape,realB.shape,imagA.shape,realB.shape)"
   ]
  },
  {
   "cell_type": "code",
   "execution_count": 70,
   "id": "254453ed",
   "metadata": {},
   "outputs": [],
   "source": [
    "GT = np.zeros(3872)"
   ]
  },
  {
   "cell_type": "code",
   "execution_count": 72,
   "id": "33eb80fe",
   "metadata": {},
   "outputs": [
    {
     "data": {
      "text/plain": [
       "(3872,)"
      ]
     },
     "execution_count": 72,
     "metadata": {},
     "output_type": "execute_result"
    }
   ],
   "source": [
    "GT.shape"
   ]
  },
  {
   "cell_type": "code",
   "execution_count": 73,
   "id": "02e2278f",
   "metadata": {},
   "outputs": [],
   "source": [
    "rr = np.empty((0,128))\n",
    "ii = np.empty((0,128))"
   ]
  },
  {
   "cell_type": "code",
   "execution_count": 74,
   "id": "40e348cf",
   "metadata": {},
   "outputs": [],
   "source": [
    "rr = np.concatenate((realA[:,2:],realB[:,2:]),axis=1)\n",
    "ii = np.concatenate((imagA[:,2:],imagB[:,2:]),axis=1)"
   ]
  },
  {
   "cell_type": "code",
   "execution_count": 75,
   "id": "d4051cb1",
   "metadata": {},
   "outputs": [
    {
     "data": {
      "text/plain": [
       "(3069, 128)"
      ]
     },
     "execution_count": 75,
     "metadata": {},
     "output_type": "execute_result"
    }
   ],
   "source": [
    "rr.shape"
   ]
  },
  {
   "cell_type": "code",
   "execution_count": 76,
   "id": "8ae3c8f4",
   "metadata": {},
   "outputs": [
    {
     "data": {
      "text/plain": [
       "(3069, 128)"
      ]
     },
     "execution_count": 76,
     "metadata": {},
     "output_type": "execute_result"
    }
   ],
   "source": [
    "ii.shape"
   ]
  },
  {
   "cell_type": "code",
   "execution_count": 77,
   "id": "72b8da4a",
   "metadata": {},
   "outputs": [],
   "source": [
    "GG = np.ones(3069)"
   ]
  },
  {
   "cell_type": "code",
   "execution_count": 78,
   "id": "a4286c49",
   "metadata": {},
   "outputs": [],
   "source": [
    "GT = np.concatenate((GT,GG))"
   ]
  },
  {
   "cell_type": "code",
   "execution_count": 79,
   "id": "88809084",
   "metadata": {},
   "outputs": [
    {
     "data": {
      "text/plain": [
       "(6941,)"
      ]
     },
     "execution_count": 79,
     "metadata": {},
     "output_type": "execute_result"
    }
   ],
   "source": [
    "GT.shape"
   ]
  },
  {
   "cell_type": "code",
   "execution_count": 80,
   "id": "56bf8c7c",
   "metadata": {},
   "outputs": [],
   "source": [
    "realCIR = np.concatenate((real,rr))"
   ]
  },
  {
   "cell_type": "code",
   "execution_count": 81,
   "id": "3ec04bc3",
   "metadata": {},
   "outputs": [
    {
     "data": {
      "text/plain": [
       "(6941, 128)"
      ]
     },
     "execution_count": 81,
     "metadata": {},
     "output_type": "execute_result"
    }
   ],
   "source": [
    "realCIR.shape"
   ]
  },
  {
   "cell_type": "code",
   "execution_count": 82,
   "id": "9b4e9b73",
   "metadata": {},
   "outputs": [],
   "source": [
    "imagCIR = np.concatenate((imag,ii))"
   ]
  },
  {
   "cell_type": "code",
   "execution_count": 83,
   "id": "0fe8288c",
   "metadata": {},
   "outputs": [
    {
     "data": {
      "text/plain": [
       "(6941, 128)"
      ]
     },
     "execution_count": 83,
     "metadata": {},
     "output_type": "execute_result"
    }
   ],
   "source": [
    "imagCIR.shape"
   ]
  },
  {
   "cell_type": "code",
   "execution_count": 84,
   "id": "18268f56",
   "metadata": {},
   "outputs": [
    {
     "data": {
      "text/plain": [
       "(6941,)"
      ]
     },
     "execution_count": 84,
     "metadata": {},
     "output_type": "execute_result"
    }
   ],
   "source": [
    "GT.shape"
   ]
  },
  {
   "cell_type": "code",
   "execution_count": 85,
   "id": "b8980530",
   "metadata": {},
   "outputs": [],
   "source": [
    "np.save(\"realCIR1.npy\",realCIR)\n",
    "np.save(\"imagCIR1.npy\",imagCIR)\n",
    "np.save(\"GT1.npy\",GT)"
   ]
  },
  {
   "cell_type": "code",
   "execution_count": null,
   "id": "351a0abf",
   "metadata": {},
   "outputs": [],
   "source": []
  }
 ],
 "metadata": {
  "kernelspec": {
   "display_name": "Python 3",
   "language": "python",
   "name": "python3"
  },
  "language_info": {
   "codemirror_mode": {
    "name": "ipython",
    "version": 3
   },
   "file_extension": ".py",
   "mimetype": "text/x-python",
   "name": "python",
   "nbconvert_exporter": "python",
   "pygments_lexer": "ipython3",
   "version": "3.6.9"
  }
 },
 "nbformat": 4,
 "nbformat_minor": 5
}
