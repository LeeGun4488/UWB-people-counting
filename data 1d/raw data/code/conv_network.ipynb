{
 "cells": [
  {
   "cell_type": "code",
   "execution_count": 1,
   "id": "79b4aa29",
   "metadata": {},
   "outputs": [],
   "source": [
    "import pandas as pd\n",
    "import numpy as np\n",
    "import glob\n",
    "import tensorflow as tf\n",
    "from sklearn.model_selection import train_test_split"
   ]
  },
  {
   "cell_type": "code",
   "execution_count": 2,
   "id": "6cb2576f",
   "metadata": {},
   "outputs": [],
   "source": [
    "from tensorflow.keras.callbacks import LearningRateScheduler"
   ]
  },
  {
   "cell_type": "code",
   "execution_count": null,
   "id": "f3b9da2c",
   "metadata": {},
   "outputs": [],
   "source": [
    "list = glob.glob('./1027/*')\n",
    "list.sort()"
   ]
  },
  {
   "cell_type": "code",
   "execution_count": null,
   "id": "38961a0a",
   "metadata": {},
   "outputs": [],
   "source": [
    "realCIR = np.empty((0,64))\n",
    "imagCIR = np.empty((0,64))\n",
    "GT = np.empty(0)"
   ]
  },
  {
   "cell_type": "code",
   "execution_count": null,
   "id": "fc5e9f2e",
   "metadata": {},
   "outputs": [],
   "source": [
    "for i in range(len(list)):\n",
    "    data = pd.read_excel(list[i])\n",
    "    data = np.array(data.iloc[:64,:]).T\n",
    "    realCIR = np.vstack((realCIR, data[0::2, :].astype(dtype=np.float32)))\n",
    "    imagCIR = np.vstack((imagCIR, data[1::2, :].astype(dtype=np.float32)))\n",
    "    GT = np.append(GT, np.ones(500) * i)\n",
    "    \n",
    "magCIR = np.sqrt(realCIR ** 2 + imagCIR ** 2)"
   ]
  },
  {
   "cell_type": "code",
   "execution_count": 3,
   "id": "80bd7097",
   "metadata": {},
   "outputs": [],
   "source": [
    "realCIR = np.load('real.npy')\n",
    "imagCIR = np.load('imag.npy')\n",
    "magCIR = np.load('dataset.npy')\n",
    "GT = np.load('label.npy')"
   ]
  },
  {
   "cell_type": "code",
   "execution_count": 4,
   "id": "af56ccbb",
   "metadata": {},
   "outputs": [
    {
     "name": "stdout",
     "output_type": "stream",
     "text": [
      "(33000, 64) (33000, 64) (33000, 64) (33000,)\n"
     ]
    }
   ],
   "source": [
    "print(realCIR.shape, imagCIR.shape, magCIR.shape, GT.shape)"
   ]
  },
  {
   "cell_type": "code",
   "execution_count": 5,
   "id": "40b9c2c9",
   "metadata": {},
   "outputs": [],
   "source": [
    "tan = np.arctan2(imagCIR, realCIR)"
   ]
  },
  {
   "cell_type": "code",
   "execution_count": 6,
   "id": "f7776261",
   "metadata": {},
   "outputs": [],
   "source": [
    "tan = np.arctan2(imagCIR, realCIR)\n",
    "diff = tan[:,:63] - tan[:, 1:]"
   ]
  },
  {
   "cell_type": "code",
   "execution_count": 7,
   "id": "cb0aa965",
   "metadata": {},
   "outputs": [
    {
     "data": {
      "text/plain": [
       "(33000, 64)"
      ]
     },
     "execution_count": 7,
     "metadata": {},
     "output_type": "execute_result"
    }
   ],
   "source": [
    "(magCIR.shape[0],magCIR.shape[1])"
   ]
  },
  {
   "cell_type": "code",
   "execution_count": 8,
   "id": "914eba74",
   "metadata": {},
   "outputs": [],
   "source": [
    "diffrence = np.zeros((magCIR.shape[0],magCIR.shape[1]))"
   ]
  },
  {
   "cell_type": "code",
   "execution_count": 9,
   "id": "63c78677",
   "metadata": {},
   "outputs": [
    {
     "data": {
      "text/plain": [
       "(33000, 64)"
      ]
     },
     "execution_count": 9,
     "metadata": {},
     "output_type": "execute_result"
    }
   ],
   "source": [
    "diffrence.shape"
   ]
  },
  {
   "cell_type": "code",
   "execution_count": 10,
   "id": "28895caf",
   "metadata": {},
   "outputs": [],
   "source": [
    "diffrence[:,1:] = diff"
   ]
  },
  {
   "cell_type": "code",
   "execution_count": 11,
   "id": "9f827caf",
   "metadata": {},
   "outputs": [],
   "source": [
    "# array = np.stack([magCIR,diffrence],axis=-1)\n",
    "array = np.stack([magCIR,tan],axis=-1)"
   ]
  },
  {
   "cell_type": "code",
   "execution_count": 12,
   "id": "4a6fda5d",
   "metadata": {},
   "outputs": [
    {
     "data": {
      "text/plain": [
       "(33000, 64, 2)"
      ]
     },
     "execution_count": 12,
     "metadata": {},
     "output_type": "execute_result"
    }
   ],
   "source": [
    "array.shape"
   ]
  },
  {
   "cell_type": "code",
   "execution_count": 13,
   "id": "649d3457",
   "metadata": {},
   "outputs": [
    {
     "data": {
      "text/plain": [
       "(33000,)"
      ]
     },
     "execution_count": 13,
     "metadata": {},
     "output_type": "execute_result"
    }
   ],
   "source": [
    "GT.shape"
   ]
  },
  {
   "cell_type": "code",
   "execution_count": 14,
   "id": "aedca43a",
   "metadata": {},
   "outputs": [],
   "source": [
    "X_train, X_test, y_train, y_test = train_test_split(array, GT, test_size=0.2, shuffle=True, stratify=GT)"
   ]
  },
  {
   "cell_type": "code",
   "execution_count": 15,
   "id": "b94f9217",
   "metadata": {},
   "outputs": [
    {
     "name": "stderr",
     "output_type": "stream",
     "text": [
      "2023-03-06 12:29:35.041575: I tensorflow/core/platform/cpu_feature_guard.cc:193] This TensorFlow binary is optimized with oneAPI Deep Neural Network Library (oneDNN) to use the following CPU instructions in performance-critical operations:  SSE4.1 SSE4.2\n",
      "To enable them in other operations, rebuild TensorFlow with the appropriate compiler flags.\n"
     ]
    }
   ],
   "source": [
    "model = tf.keras.models.Sequential([\n",
    "    tf.keras.layers.Conv1D(128,3, activation=tf.nn.relu,input_shape=(64,2),padding='same'),\n",
    "    tf.keras.layers.LayerNormalization(axis=-1),\n",
    "    tf.keras.layers.Conv1D(256,3, activation=tf.nn.relu,padding='same'),\n",
    "    tf.keras.layers.LayerNormalization(axis=-1),\n",
    "    tf.keras.layers.MaxPooling1D(2,padding='same'),\n",
    "    tf.keras.layers.LayerNormalization(axis=-1),\n",
    "    tf.keras.layers.Conv1D(512,3, activation=tf.nn.relu,padding='same'),\n",
    "    tf.keras.layers.LayerNormalization(axis=-1),\n",
    "    tf.keras.layers.MaxPooling1D(2,padding='same'),\n",
    "    tf.keras.layers.LayerNormalization(axis=-1),\n",
    "    tf.keras.layers.Conv1D(1024,3, activation=tf.nn.relu,padding='same'),\n",
    "    tf.keras.layers.LayerNormalization(axis=-1),\n",
    "    tf.keras.layers.Flatten(),\n",
    "    tf.keras.layers.Dense(256, activation='relu'),\n",
    "    tf.keras.layers.Dropout(0.05),\n",
    "    tf.keras.layers.Dense(64, activation='relu'),\n",
    "    tf.keras.layers.Dense(6, activation='softmax')\n",
    "])"
   ]
  },
  {
   "cell_type": "code",
   "execution_count": 17,
   "id": "9cf8b226",
   "metadata": {},
   "outputs": [
    {
     "data": {
      "text/plain": [
       "(26400, 64, 2)"
      ]
     },
     "execution_count": 17,
     "metadata": {},
     "output_type": "execute_result"
    }
   ],
   "source": [
    "X_train.shape"
   ]
  },
  {
   "cell_type": "code",
   "execution_count": 18,
   "id": "a4d76933",
   "metadata": {},
   "outputs": [],
   "source": [
    "input_shape = (2400,64,2) # [batch, timestamp, channel]\n",
    "x=tf.random.normal(input_shape)"
   ]
  },
  {
   "cell_type": "code",
   "execution_count": 19,
   "id": "563b7517",
   "metadata": {},
   "outputs": [
    {
     "data": {
      "text/plain": [
       "TensorShape([2400, 64, 2])"
      ]
     },
     "execution_count": 19,
     "metadata": {},
     "output_type": "execute_result"
    }
   ],
   "source": [
    "x.shape"
   ]
  },
  {
   "cell_type": "code",
   "execution_count": 20,
   "id": "8d602154",
   "metadata": {},
   "outputs": [
    {
     "data": {
      "text/plain": [
       "TensorShape([2400, 128])"
      ]
     },
     "execution_count": 20,
     "metadata": {},
     "output_type": "execute_result"
    }
   ],
   "source": [
    "y=tf.keras.layers.Flatten(input_shape=(64,2))(x)\n",
    "y.shape"
   ]
  },
  {
   "cell_type": "code",
   "execution_count": 24,
   "id": "c3894c4e",
   "metadata": {},
   "outputs": [
    {
     "data": {
      "text/plain": [
       "TensorShape([64, 2])"
      ]
     },
     "execution_count": 24,
     "metadata": {},
     "output_type": "execute_result"
    }
   ],
   "source": [
    "x[0].shape"
   ]
  },
  {
   "cell_type": "code",
   "execution_count": 26,
   "id": "1b9f139d",
   "metadata": {
    "scrolled": true
   },
   "outputs": [
    {
     "data": {
      "text/plain": [
       "<tf.Tensor: shape=(64, 2), dtype=float32, numpy=\n",
       "array([[ 0.7597858 ,  1.1772699 ],\n",
       "       [-1.1490649 , -0.7326539 ],\n",
       "       [ 0.65414137,  0.27801362],\n",
       "       [-1.2431781 , -0.47762942],\n",
       "       [-0.14788699,  0.10131846],\n",
       "       [ 0.3727815 ,  1.0086399 ],\n",
       "       [-0.9959309 ,  0.6754406 ],\n",
       "       [-0.60709476, -0.08735424],\n",
       "       [-1.5807495 , -0.86369175],\n",
       "       [ 0.96999305, -0.7728098 ],\n",
       "       [-0.6167098 ,  1.0034144 ],\n",
       "       [-1.1028564 ,  0.3568835 ],\n",
       "       [ 1.3248631 , -0.5881502 ],\n",
       "       [-1.8175312 ,  0.6240082 ],\n",
       "       [ 0.05119636,  2.8351545 ],\n",
       "       [ 0.2912606 , -1.1835668 ],\n",
       "       [-0.49003282,  0.1268585 ],\n",
       "       [-0.8115728 ,  1.6262712 ],\n",
       "       [-0.7347959 , -0.44444007],\n",
       "       [-0.18924038,  0.51921684],\n",
       "       [ 0.5059274 ,  0.7412656 ],\n",
       "       [-1.1626931 ,  0.4279719 ],\n",
       "       [ 0.00661233, -0.84810525],\n",
       "       [ 0.6556558 ,  0.06868128],\n",
       "       [-0.03553225,  0.62374353],\n",
       "       [-1.4947113 , -1.0859425 ],\n",
       "       [-1.6110007 , -0.86005694],\n",
       "       [ 1.9756137 , -0.0843918 ],\n",
       "       [-0.36472166, -0.65521556],\n",
       "       [ 0.41295004,  0.03752564],\n",
       "       [ 1.444975  ,  1.3024379 ],\n",
       "       [ 1.9704639 ,  0.729888  ],\n",
       "       [-1.7008336 ,  0.7047053 ],\n",
       "       [-0.7200626 ,  0.75724757],\n",
       "       [ 0.2212136 , -0.49013558],\n",
       "       [ 0.1614316 , -0.24288432],\n",
       "       [ 1.3301334 ,  0.32908335],\n",
       "       [-0.79901165, -0.95988667],\n",
       "       [-0.04761497,  0.6187117 ],\n",
       "       [-0.43840903,  1.6729285 ],\n",
       "       [-0.6234211 ,  0.1421846 ],\n",
       "       [-1.0935624 , -0.66415733],\n",
       "       [ 0.86228776, -0.7166785 ],\n",
       "       [-0.52308184, -0.1362142 ],\n",
       "       [ 0.831367  , -0.30342117],\n",
       "       [-1.0519618 ,  0.920776  ],\n",
       "       [ 1.6073105 , -1.0508218 ],\n",
       "       [-0.49819466, -0.7669509 ],\n",
       "       [-1.6149216 ,  0.17852682],\n",
       "       [ 0.37283868,  2.7288747 ],\n",
       "       [-0.21229315, -2.1981287 ],\n",
       "       [ 1.4488231 , -0.94355303],\n",
       "       [ 1.9280461 , -1.1563901 ],\n",
       "       [-0.02377313, -1.6423566 ],\n",
       "       [ 2.0965402 ,  0.35212085],\n",
       "       [ 0.1188226 ,  0.09736291],\n",
       "       [ 0.13496232,  2.399768  ],\n",
       "       [ 0.30908403,  0.5879175 ],\n",
       "       [-1.2105924 , -0.82459545],\n",
       "       [-0.6597913 , -2.2248902 ],\n",
       "       [-0.33918548,  1.5537745 ],\n",
       "       [-1.745769  , -0.01192165],\n",
       "       [-0.10766568, -0.0601838 ],\n",
       "       [-0.06772671,  1.1670864 ]], dtype=float32)>"
      ]
     },
     "execution_count": 26,
     "metadata": {},
     "output_type": "execute_result"
    }
   ],
   "source": [
    "x[0]"
   ]
  },
  {
   "cell_type": "code",
   "execution_count": 25,
   "id": "52b599ba",
   "metadata": {},
   "outputs": [
    {
     "data": {
      "text/plain": [
       "<tf.Tensor: shape=(128,), dtype=float32, numpy=\n",
       "array([ 0.7597858 ,  1.1772699 , -1.1490649 , -0.7326539 ,  0.65414137,\n",
       "        0.27801362, -1.2431781 , -0.47762942, -0.14788699,  0.10131846,\n",
       "        0.3727815 ,  1.0086399 , -0.9959309 ,  0.6754406 , -0.60709476,\n",
       "       -0.08735424, -1.5807495 , -0.86369175,  0.96999305, -0.7728098 ,\n",
       "       -0.6167098 ,  1.0034144 , -1.1028564 ,  0.3568835 ,  1.3248631 ,\n",
       "       -0.5881502 , -1.8175312 ,  0.6240082 ,  0.05119636,  2.8351545 ,\n",
       "        0.2912606 , -1.1835668 , -0.49003282,  0.1268585 , -0.8115728 ,\n",
       "        1.6262712 , -0.7347959 , -0.44444007, -0.18924038,  0.51921684,\n",
       "        0.5059274 ,  0.7412656 , -1.1626931 ,  0.4279719 ,  0.00661233,\n",
       "       -0.84810525,  0.6556558 ,  0.06868128, -0.03553225,  0.62374353,\n",
       "       -1.4947113 , -1.0859425 , -1.6110007 , -0.86005694,  1.9756137 ,\n",
       "       -0.0843918 , -0.36472166, -0.65521556,  0.41295004,  0.03752564,\n",
       "        1.444975  ,  1.3024379 ,  1.9704639 ,  0.729888  , -1.7008336 ,\n",
       "        0.7047053 , -0.7200626 ,  0.75724757,  0.2212136 , -0.49013558,\n",
       "        0.1614316 , -0.24288432,  1.3301334 ,  0.32908335, -0.79901165,\n",
       "       -0.95988667, -0.04761497,  0.6187117 , -0.43840903,  1.6729285 ,\n",
       "       -0.6234211 ,  0.1421846 , -1.0935624 , -0.66415733,  0.86228776,\n",
       "       -0.7166785 , -0.52308184, -0.1362142 ,  0.831367  , -0.30342117,\n",
       "       -1.0519618 ,  0.920776  ,  1.6073105 , -1.0508218 , -0.49819466,\n",
       "       -0.7669509 , -1.6149216 ,  0.17852682,  0.37283868,  2.7288747 ,\n",
       "       -0.21229315, -2.1981287 ,  1.4488231 , -0.94355303,  1.9280461 ,\n",
       "       -1.1563901 , -0.02377313, -1.6423566 ,  2.0965402 ,  0.35212085,\n",
       "        0.1188226 ,  0.09736291,  0.13496232,  2.399768  ,  0.30908403,\n",
       "        0.5879175 , -1.2105924 , -0.82459545, -0.6597913 , -2.2248902 ,\n",
       "       -0.33918548,  1.5537745 , -1.745769  , -0.01192165, -0.10766568,\n",
       "       -0.0601838 , -0.06772671,  1.1670864 ], dtype=float32)>"
      ]
     },
     "execution_count": 25,
     "metadata": {},
     "output_type": "execute_result"
    }
   ],
   "source": [
    "y[0]"
   ]
  },
  {
   "cell_type": "code",
   "execution_count": 12,
   "id": "0285fb3f",
   "metadata": {},
   "outputs": [
    {
     "data": {
      "text/plain": [
       "TensorShape([2400, 60, 6])"
      ]
     },
     "execution_count": 12,
     "metadata": {},
     "output_type": "execute_result"
    }
   ],
   "source": [
    "# y=tf.keras.layers.Conv1D(128,2,activation='relu',input_shape=(63,2))(x)\n",
    "y=tf.keras.layers.Conv1D(6,5,activation='relu',input_shape=(64,2))(x)\n",
    "y.shape"
   ]
  },
  {
   "cell_type": "code",
   "execution_count": 13,
   "id": "a7410483",
   "metadata": {},
   "outputs": [
    {
     "data": {
      "text/plain": [
       "TensorShape([2400, 30, 6])"
      ]
     },
     "execution_count": 13,
     "metadata": {},
     "output_type": "execute_result"
    }
   ],
   "source": [
    "y1 = tf.keras.layers.AveragePooling1D(2,padding='same')(y)\n",
    "y1.shape"
   ]
  },
  {
   "cell_type": "code",
   "execution_count": null,
   "id": "aabb9dc5",
   "metadata": {},
   "outputs": [],
   "source": [
    "y2=tf.keras.layers.Conv1D(16, 5,activation='relu',padding='same')(y1)\n",
    "y2.shape"
   ]
  },
  {
   "cell_type": "code",
   "execution_count": null,
   "id": "d152fb92",
   "metadata": {},
   "outputs": [],
   "source": [
    "y3=tf.keras.layers.AveragePooling1D(2)(y2)\n",
    "y3.shape"
   ]
  },
  {
   "cell_type": "code",
   "execution_count": null,
   "id": "59b68832",
   "metadata": {},
   "outputs": [],
   "source": [
    "y4=tf.keras.layers.Conv1D(120,5,activation='relu',padding='same')(y3)\n",
    "y4.shape"
   ]
  },
  {
   "cell_type": "code",
   "execution_count": null,
   "id": "dea870a4",
   "metadata": {},
   "outputs": [],
   "source": [
    "y5=tf.keras.layers.Flatten()(y4)\n",
    "y5.shape"
   ]
  },
  {
   "cell_type": "code",
   "execution_count": null,
   "id": "00cebe4e",
   "metadata": {},
   "outputs": [],
   "source": [
    "y6=tf.keras.layers.Conv1D(32, 3,activation='relu',padding='same')(y5)\n",
    "y6.shape"
   ]
  },
  {
   "cell_type": "code",
   "execution_count": null,
   "id": "7846d715",
   "metadata": {},
   "outputs": [],
   "source": [
    "y7=tf.keras.layers.MaxPooling1D(2)(y6)\n",
    "y7.shape"
   ]
  },
  {
   "cell_type": "code",
   "execution_count": null,
   "id": "6361618d",
   "metadata": {},
   "outputs": [],
   "source": [
    "y8=tf.keras.layers.Flatten()(y7)\n",
    "y8.shape"
   ]
  },
  {
   "cell_type": "code",
   "execution_count": 9,
   "id": "d1e9c1b4",
   "metadata": {},
   "outputs": [],
   "source": [
    "def step_decay(epoch):\n",
    "    start = 0.0001\n",
    "    drop = 0.1\n",
    "    epochs_drop = 5\n",
    "    lr = start * (drop ** np.floor((epoch)/epochs_drop))\n",
    "    return lr"
   ]
  },
  {
   "cell_type": "code",
   "execution_count": 10,
   "id": "3dd233fd",
   "metadata": {},
   "outputs": [],
   "source": [
    "lr_scheduler = LearningRateScheduler(step_decay, verbose=1)"
   ]
  },
  {
   "cell_type": "code",
   "execution_count": 11,
   "id": "9f8224da",
   "metadata": {},
   "outputs": [],
   "source": [
    "model.compile(optimizer='adam',\n",
    "             loss='sparse_categorical_crossentropy',\n",
    "             metrics=['accuracy'])"
   ]
  },
  {
   "cell_type": "code",
   "execution_count": 12,
   "id": "0020dfef",
   "metadata": {
    "scrolled": false
   },
   "outputs": [
    {
     "name": "stdout",
     "output_type": "stream",
     "text": [
      "\n",
      "Epoch 1: LearningRateScheduler setting learning rate to 0.0001.\n",
      "Epoch 1/10\n",
      "450/450 [==============================] - 108s 240ms/step - loss: 1.1149 - accuracy: 0.5678 - val_loss: 0.6699 - val_accuracy: 0.7539 - lr: 1.0000e-04\n",
      "\n",
      "Epoch 2: LearningRateScheduler setting learning rate to 0.0001.\n",
      "Epoch 2/10\n",
      "450/450 [==============================] - 109s 242ms/step - loss: 0.5527 - accuracy: 0.7923 - val_loss: 0.4885 - val_accuracy: 0.8136 - lr: 1.0000e-04\n",
      "\n",
      "Epoch 3: LearningRateScheduler setting learning rate to 0.0001.\n",
      "Epoch 3/10\n",
      "450/450 [==============================] - 110s 244ms/step - loss: 0.3638 - accuracy: 0.8656 - val_loss: 0.4295 - val_accuracy: 0.8417 - lr: 1.0000e-04\n",
      "\n",
      "Epoch 4: LearningRateScheduler setting learning rate to 0.0001.\n",
      "Epoch 4/10\n",
      "450/450 [==============================] - 111s 246ms/step - loss: 0.2410 - accuracy: 0.9136 - val_loss: 0.4162 - val_accuracy: 0.8536 - lr: 1.0000e-04\n",
      "\n",
      "Epoch 5: LearningRateScheduler setting learning rate to 0.0001.\n",
      "Epoch 5/10\n",
      "450/450 [==============================] - 111s 248ms/step - loss: 0.1459 - accuracy: 0.9493 - val_loss: 0.4175 - val_accuracy: 0.8586 - lr: 1.0000e-04\n",
      "\n",
      "Epoch 6: LearningRateScheduler setting learning rate to 1e-05.\n",
      "Epoch 6/10\n",
      "450/450 [==============================] - 113s 251ms/step - loss: 0.0641 - accuracy: 0.9849 - val_loss: 0.3748 - val_accuracy: 0.8714 - lr: 1.0000e-05\n",
      "\n",
      "Epoch 7: LearningRateScheduler setting learning rate to 1e-05.\n",
      "Epoch 7/10\n",
      "450/450 [==============================] - 119s 264ms/step - loss: 0.0418 - accuracy: 0.9934 - val_loss: 0.3740 - val_accuracy: 0.8731 - lr: 1.0000e-05\n",
      "\n",
      "Epoch 8: LearningRateScheduler setting learning rate to 1e-05.\n",
      "Epoch 8/10\n",
      "450/450 [==============================] - 119s 265ms/step - loss: 0.0321 - accuracy: 0.9960 - val_loss: 0.3777 - val_accuracy: 0.8733 - lr: 1.0000e-05\n",
      "\n",
      "Epoch 9: LearningRateScheduler setting learning rate to 1e-05.\n",
      "Epoch 9/10\n",
      "450/450 [==============================] - 147s 328ms/step - loss: 0.0261 - accuracy: 0.9980 - val_loss: 0.3784 - val_accuracy: 0.8747 - lr: 1.0000e-05\n",
      "\n",
      "Epoch 10: LearningRateScheduler setting learning rate to 1e-05.\n",
      "Epoch 10/10\n",
      "450/450 [==============================] - 149s 330ms/step - loss: 0.0221 - accuracy: 0.9987 - val_loss: 0.3826 - val_accuracy: 0.8753 - lr: 1.0000e-05\n"
     ]
    },
    {
     "data": {
      "text/plain": [
       "<keras.callbacks.History at 0x7fdeb169d250>"
      ]
     },
     "execution_count": 12,
     "metadata": {},
     "output_type": "execute_result"
    }
   ],
   "source": [
    "model.fit(X_train, y_train, epochs=10,\n",
    "            validation_data=(X_test, y_test),\n",
    "             callbacks=[lr_scheduler])"
   ]
  },
  {
   "cell_type": "code",
   "execution_count": 13,
   "id": "e2e90cf8",
   "metadata": {},
   "outputs": [
    {
     "name": "stdout",
     "output_type": "stream",
     "text": [
      "113/113 [==============================] - 6s 51ms/step - loss: 0.3826 - accuracy: 0.8753\n"
     ]
    },
    {
     "data": {
      "text/plain": [
       "[0.382550984621048, 0.8752777576446533]"
      ]
     },
     "execution_count": 13,
     "metadata": {},
     "output_type": "execute_result"
    }
   ],
   "source": [
    "model.evaluate(X_test, y_test)"
   ]
  }
 ],
 "metadata": {
  "kernelspec": {
   "display_name": "Python 3 (ipykernel)",
   "language": "python",
   "name": "python3"
  },
  "language_info": {
   "codemirror_mode": {
    "name": "ipython",
    "version": 3
   },
   "file_extension": ".py",
   "mimetype": "text/x-python",
   "name": "python",
   "nbconvert_exporter": "python",
   "pygments_lexer": "ipython3",
   "version": "3.8.13"
  }
 },
 "nbformat": 4,
 "nbformat_minor": 5
}
