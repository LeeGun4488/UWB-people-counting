{
 "cells": [
  {
   "cell_type": "code",
   "execution_count": 7,
   "id": "11b49a4b",
   "metadata": {},
   "outputs": [],
   "source": [
    "import torch\n",
    "import torch.nn as nn\n",
    "import torch.nn.functional as F\n",
    "import torch.optim as optim\n",
    "from torchvision import datasets, transforms"
   ]
  },
  {
   "cell_type": "code",
   "execution_count": 2,
   "id": "bebe33a4",
   "metadata": {},
   "outputs": [],
   "source": [
    "train_data = datasets.MNIST('./data/', train=True, download=True, transform=transforms.Compose([\n",
    "        transforms.ToTensor(),\n",
    "        transforms.Normalize((0.1307,), (0.3081,))\n",
    "    ])) # 학습 데이터\n",
    "train_loader = torch.utils.data.DataLoader(dataset=train_data, batch_size=50, shuffle=True)\n",
    "\n",
    "test_data = datasets.MNIST('./data/', train=False, transform=transforms.Compose([\n",
    "        transforms.ToTensor(),\n",
    "        transforms.Normalize((0.1307,), (0.3081,))\n",
    "    ])) # 테스트 데이터\n",
    "test_loader = torch.utils.data.DataLoader(dataset=test_data, batch_size=50, shuffle=True)"
   ]
  },
  {
   "cell_type": "code",
   "execution_count": 3,
   "id": "2683c55b",
   "metadata": {},
   "outputs": [],
   "source": [
    "class CNN(nn.Module):\n",
    "    def __init__(self):\n",
    "        super(CNN, self).__init__()\n",
    "        self.conv1 = nn.Conv2d(in_channels=1, out_channels=20, kernel_size=5, stride=1)\n",
    "        self.conv2 = nn.Conv2d(in_channels=20, out_channels=50, kernel_size=5, stride=1)\n",
    "        self.fc1 = nn.Linear(4 * 4 * 50, 500)\n",
    "        self.fc2 = nn.Linear(500, 10)\n",
    "\n",
    "    def forward(self, x):\n",
    "        x = F.relu(self.conv1(x))\n",
    "        x = F.max_pool2d(x, kernel_size=2, stride=2)\n",
    "        x = F.relu(self.conv2(x))\n",
    "        x = F.max_pool2d(x, kernel_size=2, stride=2)\n",
    "\n",
    "        x = x.view(-1, 4 * 4 * 50) # [batch_size, 50, 4, 4]\n",
    "        x = F.relu(self.fc1(x))\n",
    "        x = self.fc2(x)\n",
    "        return x"
   ]
  },
  {
   "cell_type": "code",
   "execution_count": 4,
   "id": "abab00de",
   "metadata": {},
   "outputs": [],
   "source": [
    "cnn = CNN()\n",
    "criterion = torch.nn.CrossEntropyLoss()\n",
    "optimizer = optim.SGD(cnn.parameters(), lr=0.01)"
   ]
  },
  {
   "cell_type": "code",
   "execution_count": 8,
   "id": "78e32e2d",
   "metadata": {},
   "outputs": [
    {
     "data": {
      "text/plain": [
       "<torch.utils.data.dataloader.DataLoader at 0x7f7871cf6eb0>"
      ]
     },
     "execution_count": 8,
     "metadata": {},
     "output_type": "execute_result"
    }
   ],
   "source": [
    "train_loader."
   ]
  },
  {
   "cell_type": "code",
   "execution_count": 5,
   "id": "3155d9ae",
   "metadata": {
    "scrolled": true
   },
   "outputs": [
    {
     "name": "stdout",
     "output_type": "stream",
     "text": [
      "loss of 0 epoch, 0 index : 2.303093910217285\n",
      "loss of 0 epoch, 100 index : 1.0741589069366455\n",
      "loss of 0 epoch, 200 index : 0.40458378195762634\n",
      "loss of 0 epoch, 300 index : 0.454990416765213\n",
      "loss of 0 epoch, 400 index : 0.3319699764251709\n",
      "loss of 0 epoch, 500 index : 0.17312313616275787\n",
      "loss of 0 epoch, 600 index : 0.24067924916744232\n",
      "loss of 0 epoch, 700 index : 0.33306530117988586\n",
      "loss of 0 epoch, 800 index : 0.262826144695282\n",
      "loss of 0 epoch, 900 index : 0.29862239956855774\n",
      "loss of 0 epoch, 1000 index : 0.16253280639648438\n",
      "loss of 0 epoch, 1100 index : 0.1255272924900055\n",
      "loss of 1 epoch, 0 index : 0.03797267749905586\n",
      "loss of 1 epoch, 100 index : 0.03237491101026535\n",
      "loss of 1 epoch, 200 index : 0.16908065974712372\n",
      "loss of 1 epoch, 300 index : 0.06191662326455116\n",
      "loss of 1 epoch, 400 index : 0.11565271019935608\n",
      "loss of 1 epoch, 500 index : 0.07763880491256714\n",
      "loss of 1 epoch, 600 index : 0.09656323492527008\n",
      "loss of 1 epoch, 700 index : 0.12894965708255768\n",
      "loss of 1 epoch, 800 index : 0.10722704231739044\n",
      "loss of 1 epoch, 900 index : 0.024307630956172943\n",
      "loss of 1 epoch, 1000 index : 0.3096306324005127\n",
      "loss of 1 epoch, 1100 index : 0.025643669068813324\n",
      "loss of 2 epoch, 0 index : 0.03059350699186325\n",
      "loss of 2 epoch, 100 index : 0.03223651275038719\n",
      "loss of 2 epoch, 200 index : 0.05490497127175331\n",
      "loss of 2 epoch, 300 index : 0.027939245104789734\n",
      "loss of 2 epoch, 400 index : 0.024075917899608612\n",
      "loss of 2 epoch, 500 index : 0.05903099849820137\n",
      "loss of 2 epoch, 600 index : 0.029832735657691956\n",
      "loss of 2 epoch, 700 index : 0.11977017670869827\n",
      "loss of 2 epoch, 800 index : 0.05544554814696312\n",
      "loss of 2 epoch, 900 index : 0.03624697029590607\n",
      "loss of 2 epoch, 1000 index : 0.05992794409394264\n",
      "loss of 2 epoch, 1100 index : 0.07831642031669617\n",
      "loss of 3 epoch, 0 index : 0.005294643808156252\n",
      "loss of 3 epoch, 100 index : 0.0640564039349556\n",
      "loss of 3 epoch, 200 index : 0.029081907123327255\n",
      "loss of 3 epoch, 300 index : 0.03273328021168709\n",
      "loss of 3 epoch, 400 index : 0.09465748816728592\n",
      "loss of 3 epoch, 500 index : 0.008604893460869789\n",
      "loss of 3 epoch, 600 index : 0.09300153702497482\n",
      "loss of 3 epoch, 700 index : 0.032426971942186356\n",
      "loss of 3 epoch, 800 index : 0.2726777195930481\n",
      "loss of 3 epoch, 900 index : 0.06062573567032814\n",
      "loss of 3 epoch, 1000 index : 0.05806903913617134\n",
      "loss of 3 epoch, 1100 index : 0.038551781326532364\n",
      "loss of 4 epoch, 0 index : 0.014352654106914997\n",
      "loss of 4 epoch, 100 index : 0.023034578189253807\n",
      "loss of 4 epoch, 200 index : 0.030946750193834305\n",
      "loss of 4 epoch, 300 index : 0.06632072478532791\n",
      "loss of 4 epoch, 400 index : 0.03871848061680794\n",
      "loss of 4 epoch, 500 index : 0.009535707533359528\n",
      "loss of 4 epoch, 600 index : 0.15432819724082947\n",
      "loss of 4 epoch, 700 index : 0.04050329700112343\n",
      "loss of 4 epoch, 800 index : 0.010908770374953747\n",
      "loss of 4 epoch, 900 index : 0.03390754386782646\n",
      "loss of 4 epoch, 1000 index : 0.04775169864296913\n",
      "loss of 4 epoch, 1100 index : 0.03316246345639229\n",
      "loss of 5 epoch, 0 index : 0.03282003104686737\n",
      "loss of 5 epoch, 100 index : 0.016730455681681633\n",
      "loss of 5 epoch, 200 index : 0.03757863864302635\n",
      "loss of 5 epoch, 300 index : 0.004861470311880112\n",
      "loss of 5 epoch, 400 index : 0.05584856867790222\n",
      "loss of 5 epoch, 500 index : 0.012702408246695995\n",
      "loss of 5 epoch, 600 index : 0.09175965189933777\n",
      "loss of 5 epoch, 700 index : 0.09783240407705307\n",
      "loss of 5 epoch, 800 index : 0.011632006615400314\n",
      "loss of 5 epoch, 900 index : 0.060132913291454315\n",
      "loss of 5 epoch, 1000 index : 0.01586257293820381\n",
      "loss of 5 epoch, 1100 index : 0.04091699421405792\n",
      "loss of 6 epoch, 0 index : 0.01241438277065754\n",
      "loss of 6 epoch, 100 index : 0.02533399872481823\n",
      "loss of 6 epoch, 200 index : 0.03200005739927292\n",
      "loss of 6 epoch, 300 index : 0.004000888671725988\n",
      "loss of 6 epoch, 400 index : 0.006802171468734741\n",
      "loss of 6 epoch, 500 index : 0.005810513626784086\n",
      "loss of 6 epoch, 600 index : 0.009082986041903496\n",
      "loss of 6 epoch, 700 index : 0.08531670272350311\n",
      "loss of 6 epoch, 800 index : 0.028618337586522102\n",
      "loss of 6 epoch, 900 index : 0.022906970232725143\n",
      "loss of 6 epoch, 1000 index : 0.023829590529203415\n",
      "loss of 6 epoch, 1100 index : 0.008543905802071095\n",
      "loss of 7 epoch, 0 index : 0.10957657545804977\n",
      "loss of 7 epoch, 100 index : 0.014572267420589924\n",
      "loss of 7 epoch, 200 index : 0.034401785582304\n",
      "loss of 7 epoch, 300 index : 0.02658754400908947\n",
      "loss of 7 epoch, 400 index : 0.036381155252456665\n",
      "loss of 7 epoch, 500 index : 0.003548210021108389\n",
      "loss of 7 epoch, 600 index : 0.03119531460106373\n",
      "loss of 7 epoch, 700 index : 0.12298962473869324\n",
      "loss of 7 epoch, 800 index : 0.03329595923423767\n",
      "loss of 7 epoch, 900 index : 0.06349644064903259\n",
      "loss of 7 epoch, 1000 index : 0.0213573407381773\n",
      "loss of 7 epoch, 1100 index : 0.06242171674966812\n",
      "loss of 8 epoch, 0 index : 0.014930538833141327\n",
      "loss of 8 epoch, 100 index : 0.006110915914177895\n",
      "loss of 8 epoch, 200 index : 0.03047400712966919\n",
      "loss of 8 epoch, 300 index : 0.052902817726135254\n",
      "loss of 8 epoch, 400 index : 0.061439450830221176\n",
      "loss of 8 epoch, 500 index : 0.09843175113201141\n",
      "loss of 8 epoch, 600 index : 0.02207157574594021\n",
      "loss of 8 epoch, 700 index : 0.005918396171182394\n",
      "loss of 8 epoch, 800 index : 0.0019591706804931164\n",
      "loss of 8 epoch, 900 index : 0.025899799540638924\n",
      "loss of 8 epoch, 1000 index : 0.07846780866384506\n",
      "loss of 8 epoch, 1100 index : 0.014487816952168941\n",
      "loss of 9 epoch, 0 index : 0.00444305082783103\n",
      "loss of 9 epoch, 100 index : 0.05651348456740379\n",
      "loss of 9 epoch, 200 index : 0.029560914263129234\n",
      "loss of 9 epoch, 300 index : 0.01465117372572422\n",
      "loss of 9 epoch, 400 index : 0.00898556038737297\n",
      "loss of 9 epoch, 500 index : 0.033278848975896835\n",
      "loss of 9 epoch, 600 index : 0.002304359106346965\n",
      "loss of 9 epoch, 700 index : 0.003926228731870651\n",
      "loss of 9 epoch, 800 index : 0.005130486562848091\n",
      "loss of 9 epoch, 900 index : 0.007131652440875769\n",
      "loss of 9 epoch, 1000 index : 0.015005537308752537\n",
      "loss of 9 epoch, 1100 index : 0.03740820661187172\n"
     ]
    }
   ],
   "source": [
    "cnn.train()  # 학습을 위함\n",
    "for epoch in range(10):\n",
    "    for index, (data, target) in enumerate(train_loader):\n",
    "        optimizer.zero_grad()  # 기울기 초기화\n",
    "        output = cnn(data)\n",
    "        loss = criterion(output, target)\n",
    "        loss.backward()  # 역전파\n",
    "        optimizer.step()\n",
    "\n",
    "        if index % 100 == 0:\n",
    "            print(\"loss of {} epoch, {} index : {}\".format(epoch, index, loss.item()))"
   ]
  },
  {
   "cell_type": "code",
   "execution_count": 6,
   "id": "b4ad0766",
   "metadata": {},
   "outputs": [
    {
     "name": "stdout",
     "output_type": "stream",
     "text": [
      "\n",
      "Test set: Average loss: 6.4592, Accuracy: 9884/10000 (99%)\n",
      "\n"
     ]
    }
   ],
   "source": [
    "cnn.eval()\n",
    "test_loss = 0\n",
    "correct = 0\n",
    "with torch.no_grad():\n",
    "    for data, target in test_loader:\n",
    "        output = cnn(data)\n",
    "        test_loss += criterion(output, target).item() # sum up batch loss\n",
    "        pred = output.argmax(dim=1, keepdim=True) # get the index of the max log-probability\n",
    "        correct += pred.eq(target.view_as(pred)).sum().item()\n",
    "print('\\nTest set: Average loss: {:.4f}, Accuracy: {}/{} ({:.0f}%)\\n'.format(\n",
    "        test_loss, correct, len(test_loader.dataset),\n",
    "        100. * correct / len(test_loader.dataset)))"
   ]
  },
  {
   "cell_type": "code",
   "execution_count": null,
   "id": "d7574037",
   "metadata": {},
   "outputs": [],
   "source": []
  }
 ],
 "metadata": {
  "kernelspec": {
   "display_name": "Python 3 (ipykernel)",
   "language": "python",
   "name": "python3"
  },
  "language_info": {
   "codemirror_mode": {
    "name": "ipython",
    "version": 3
   },
   "file_extension": ".py",
   "mimetype": "text/x-python",
   "name": "python",
   "nbconvert_exporter": "python",
   "pygments_lexer": "ipython3",
   "version": "3.8.13"
  }
 },
 "nbformat": 4,
 "nbformat_minor": 5
}
