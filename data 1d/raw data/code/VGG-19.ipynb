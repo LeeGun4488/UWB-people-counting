{
 "cells": [
  {
   "cell_type": "code",
   "execution_count": 1,
   "id": "51780a65",
   "metadata": {},
   "outputs": [
    {
     "name": "stdout",
     "output_type": "stream",
     "text": [
      "(18000, 64) (18000, 64) (18000, 64) (18000,)\n"
     ]
    }
   ],
   "source": [
    "import pandas as pd\n",
    "import numpy as np\n",
    "import glob\n",
    "import tensorflow as tf\n",
    "from sklearn.model_selection import train_test_split\n",
    "from tensorflow.keras.callbacks import LearningRateScheduler\n",
    "\n",
    "realCIR = np.load('real.npy')\n",
    "imagCIR = np.load('imag.npy')\n",
    "magCIR = np.load('dataset.npy')\n",
    "GT = np.load('label.npy')\n",
    "\n",
    "print(realCIR.shape, imagCIR.shape, magCIR.shape, GT.shape)\n",
    "\n",
    "tan = np.arctan2(imagCIR, realCIR)\n",
    "diff = tan[:,:63] - tan[:, 1:]\n",
    "diffrence = np.zeros((magCIR.shape[0],magCIR.shape[1]))\n",
    "diffrence[:,1:] = diff\n",
    "\n",
    "array = np.stack([magCIR,diffrence],axis=-1)\n",
    "# array = np.stack([magCIR,tan],axis=-1)\n",
    "\n",
    "X_train, X_test, y_train, y_test = train_test_split(array, GT, test_size=0.2, shuffle=True, stratify=GT)"
   ]
  },
  {
   "cell_type": "code",
   "execution_count": 2,
   "id": "bd18fe88",
   "metadata": {},
   "outputs": [
    {
     "name": "stderr",
     "output_type": "stream",
     "text": [
      "2022-11-14 20:31:09.866270: I tensorflow/core/platform/cpu_feature_guard.cc:193] This TensorFlow binary is optimized with oneAPI Deep Neural Network Library (oneDNN) to use the following CPU instructions in performance-critical operations:  SSE4.1 SSE4.2\n",
      "To enable them in other operations, rebuild TensorFlow with the appropriate compiler flags.\n"
     ]
    }
   ],
   "source": [
    "model = tf.keras.models.Sequential([\n",
    "    # layer1~3\n",
    "    tf.keras.layers.Conv1D(64,3, activation=tf.nn.relu,input_shape=(64,2),padding='same'),\n",
    "    tf.keras.layers.Conv1D(64,3, activation=tf.nn.relu,padding='same'),\n",
    "    tf.keras.layers.AveragePooling1D(2,padding='same'),\n",
    "    # layer4~6\n",
    "    tf.keras.layers.Conv1D(128,3, activation=tf.nn.relu,padding='same'),\n",
    "    tf.keras.layers.Conv1D(128,3, activation=tf.nn.relu,padding='same'),\n",
    "    tf.keras.layers.AveragePooling1D(2,padding='same'),\n",
    "    # layer7~11\n",
    "    tf.keras.layers.Conv1D(256,3, activation=tf.nn.relu,padding='same'),\n",
    "    tf.keras.layers.Conv1D(256,3, activation=tf.nn.relu,padding='same'),\n",
    "    tf.keras.layers.Conv1D(256,3, activation=tf.nn.relu,padding='same'),\n",
    "    tf.keras.layers.Conv1D(256,3, activation=tf.nn.relu,padding='same'),\n",
    "    tf.keras.layers.AveragePooling1D(2,padding='same'),\n",
    "    # layer12~16\n",
    "    tf.keras.layers.Conv1D(512,3, activation=tf.nn.relu,padding='same'),\n",
    "    tf.keras.layers.Conv1D(512,3, activation=tf.nn.relu,padding='same'),\n",
    "    tf.keras.layers.Conv1D(512,3, activation=tf.nn.relu,padding='same'),\n",
    "    tf.keras.layers.Conv1D(512,3, activation=tf.nn.relu,padding='same'),\n",
    "    tf.keras.layers.AveragePooling1D(2,padding='same'),\n",
    "    # layer17~21\n",
    "    tf.keras.layers.Conv1D(512,3, activation=tf.nn.relu,padding='same'),\n",
    "    tf.keras.layers.Conv1D(512,3, activation=tf.nn.relu,padding='same'),\n",
    "    tf.keras.layers.Conv1D(512,3, activation=tf.nn.relu,padding='same'),\n",
    "    tf.keras.layers.Conv1D(512,3, activation=tf.nn.relu,padding='same'),\n",
    "    tf.keras.layers.AveragePooling1D(2,padding='same'),\n",
    "    # layer22~24\n",
    "    tf.keras.layers.Flatten(),\n",
    "    tf.keras.layers.Dense(4096, activation=tf.nn.relu),\n",
    "    tf.keras.layers.Dense(4096, activation=tf.nn.relu),\n",
    "    tf.keras.layers.Dense(6, activation='softmax'),\n",
    "])"
   ]
  },
  {
   "cell_type": "code",
   "execution_count": 3,
   "id": "2df74f85",
   "metadata": {},
   "outputs": [],
   "source": [
    "def step_decay(epoch):\n",
    "    start = 0.0001\n",
    "    drop = 0.1\n",
    "    epochs_drop = 5\n",
    "    lr = start * (drop ** np.floor((epoch)/epochs_drop))\n",
    "    return lr"
   ]
  },
  {
   "cell_type": "code",
   "execution_count": 4,
   "id": "e223bb0f",
   "metadata": {},
   "outputs": [],
   "source": [
    "lr_scheduler = LearningRateScheduler(step_decay, verbose=1)"
   ]
  },
  {
   "cell_type": "code",
   "execution_count": 5,
   "id": "66b825cd",
   "metadata": {},
   "outputs": [],
   "source": [
    "model.compile(optimizer='adam',\n",
    "             loss='sparse_categorical_crossentropy',\n",
    "             metrics=['accuracy'])"
   ]
  },
  {
   "cell_type": "code",
   "execution_count": 6,
   "id": "ce0f9ddd",
   "metadata": {},
   "outputs": [
    {
     "name": "stdout",
     "output_type": "stream",
     "text": [
      "\n",
      "Epoch 1: LearningRateScheduler setting learning rate to 0.0001.\n",
      "Epoch 1/10\n",
      "450/450 [==============================] - 231s 512ms/step - loss: 1.1221 - accuracy: 0.5044 - val_loss: 0.9800 - val_accuracy: 0.5683 - lr: 1.0000e-04\n",
      "\n",
      "Epoch 2: LearningRateScheduler setting learning rate to 0.0001.\n",
      "Epoch 2/10\n",
      "450/450 [==============================] - 153s 340ms/step - loss: 0.7398 - accuracy: 0.6990 - val_loss: 0.6176 - val_accuracy: 0.7564 - lr: 1.0000e-04\n",
      "\n",
      "Epoch 3: LearningRateScheduler setting learning rate to 0.0001.\n",
      "Epoch 3/10\n",
      "450/450 [==============================] - 133s 295ms/step - loss: 0.5687 - accuracy: 0.7794 - val_loss: 0.5188 - val_accuracy: 0.7989 - lr: 1.0000e-04\n",
      "\n",
      "Epoch 4: LearningRateScheduler setting learning rate to 0.0001.\n",
      "Epoch 4/10\n",
      "450/450 [==============================] - 134s 298ms/step - loss: 0.4653 - accuracy: 0.8211 - val_loss: 0.5512 - val_accuracy: 0.7861 - lr: 1.0000e-04\n",
      "\n",
      "Epoch 5: LearningRateScheduler setting learning rate to 0.0001.\n",
      "Epoch 5/10\n",
      "450/450 [==============================] - 135s 301ms/step - loss: 0.4174 - accuracy: 0.8414 - val_loss: 0.4379 - val_accuracy: 0.8328 - lr: 1.0000e-04\n",
      "\n",
      "Epoch 6: LearningRateScheduler setting learning rate to 1e-05.\n",
      "Epoch 6/10\n",
      "450/450 [==============================] - 136s 302ms/step - loss: 0.2573 - accuracy: 0.9049 - val_loss: 0.4057 - val_accuracy: 0.8542 - lr: 1.0000e-05\n",
      "\n",
      "Epoch 7: LearningRateScheduler setting learning rate to 1e-05.\n",
      "Epoch 7/10\n",
      "450/450 [==============================] - 136s 303ms/step - loss: 0.2062 - accuracy: 0.9257 - val_loss: 0.4121 - val_accuracy: 0.8578 - lr: 1.0000e-05\n",
      "\n",
      "Epoch 8: LearningRateScheduler setting learning rate to 1e-05.\n",
      "Epoch 8/10\n",
      "450/450 [==============================] - 137s 305ms/step - loss: 0.1708 - accuracy: 0.9394 - val_loss: 0.4325 - val_accuracy: 0.8589 - lr: 1.0000e-05\n",
      "\n",
      "Epoch 9: LearningRateScheduler setting learning rate to 1e-05.\n",
      "Epoch 9/10\n",
      "450/450 [==============================] - 139s 308ms/step - loss: 0.1391 - accuracy: 0.9514 - val_loss: 0.4662 - val_accuracy: 0.8531 - lr: 1.0000e-05\n",
      "\n",
      "Epoch 10: LearningRateScheduler setting learning rate to 1e-05.\n",
      "Epoch 10/10\n",
      "450/450 [==============================] - 139s 310ms/step - loss: 0.1067 - accuracy: 0.9651 - val_loss: 0.5181 - val_accuracy: 0.8581 - lr: 1.0000e-05\n"
     ]
    },
    {
     "data": {
      "text/plain": [
       "<keras.callbacks.History at 0x7f8f819e8be0>"
      ]
     },
     "execution_count": 6,
     "metadata": {},
     "output_type": "execute_result"
    }
   ],
   "source": [
    "model.fit(X_train, y_train, epochs=10,\n",
    "            validation_data=(X_test, y_test),\n",
    "             callbacks=[lr_scheduler])"
   ]
  },
  {
   "cell_type": "code",
   "execution_count": 7,
   "id": "994d0e76",
   "metadata": {},
   "outputs": [
    {
     "name": "stdout",
     "output_type": "stream",
     "text": [
      "113/113 [==============================] - 5s 45ms/step - loss: 0.5181 - accuracy: 0.8581\n"
     ]
    },
    {
     "data": {
      "text/plain": [
       "[0.5181264877319336, 0.8580555319786072]"
      ]
     },
     "execution_count": 7,
     "metadata": {},
     "output_type": "execute_result"
    }
   ],
   "source": [
    "model.evaluate(X_test, y_test)"
   ]
  }
 ],
 "metadata": {
  "kernelspec": {
   "display_name": "Python 3 (ipykernel)",
   "language": "python",
   "name": "python3"
  },
  "language_info": {
   "codemirror_mode": {
    "name": "ipython",
    "version": 3
   },
   "file_extension": ".py",
   "mimetype": "text/x-python",
   "name": "python",
   "nbconvert_exporter": "python",
   "pygments_lexer": "ipython3",
   "version": "3.8.13"
  }
 },
 "nbformat": 4,
 "nbformat_minor": 5
}
