{
 "cells": [
  {
   "cell_type": "code",
   "execution_count": 1,
   "metadata": {},
   "outputs": [],
   "source": [
    "import numpy as np\n",
    "import tensorflow as tf\n",
    "# from sklearn.model_selection import train_test_split\n",
    "# from sklearn.preprocessing import MinMaxScaler"
   ]
  },
  {
   "cell_type": "markdown",
   "metadata": {},
   "source": [
    "Data load"
   ]
  },
  {
   "cell_type": "code",
   "execution_count": 2,
   "metadata": {},
   "outputs": [],
   "source": [
    "X_train = np.load('X_train.npy')\n",
    "X_val = np.load('X_val.npy')\n",
    "X_test = np.load('X_test.npy')\n",
    "y_train = np.load('y_train.npy')\n",
    "y_val = np.load('y_val.npy')\n",
    "y_test = np.load('y_test.npy')"
   ]
  },
  {
   "cell_type": "markdown",
   "metadata": {},
   "source": [
    "Fully Connetecd Network"
   ]
  },
  {
   "cell_type": "code",
   "execution_count": 3,
   "metadata": {},
   "outputs": [],
   "source": [
    "FC1 = tf.keras.models.load_model('FCNet200-400-200.h5')\n",
    "FC2 = tf.keras.models.load_model('FCNet200-400-400.h5')\n",
    "FC3 = tf.keras.models.load_model('FCNet200-400-800.h5')"
   ]
  },
  {
   "cell_type": "code",
   "execution_count": 4,
   "metadata": {},
   "outputs": [],
   "source": [
    "FC1.compile(optimizer='adam', loss='sparse_categorical_crossentropy', metrics=['accuracy'])\n",
    "FC2.compile(optimizer='adam', loss='sparse_categorical_crossentropy', metrics=['accuracy'])\n",
    "FC3.compile(optimizer='adam', loss='sparse_categorical_crossentropy', metrics=['accuracy'])"
   ]
  },
  {
   "cell_type": "code",
   "execution_count": 5,
   "metadata": {},
   "outputs": [
    {
     "name": "stdout",
     "output_type": "stream",
     "text": [
      "155/155 [==============================] - 0s 445us/step - loss: 0.4864 - accuracy: 0.8087\n",
      "[0.48639318346977234, 0.8086868524551392]\n",
      "155/155 [==============================] - 0s 419us/step - loss: 0.5143 - accuracy: 0.8063\n",
      "[0.5143396258354187, 0.8062626123428345]\n",
      "155/155 [==============================] - 0s 439us/step - loss: 0.5316 - accuracy: 0.7970\n",
      "[0.5316466689109802, 0.7969697117805481]\n"
     ]
    }
   ],
   "source": [
    "print(FC1.evaluate(X_test,y_test))\n",
    "print(FC2.evaluate(X_test,y_test))\n",
    "print(FC3.evaluate(X_test,y_test))"
   ]
  },
  {
   "cell_type": "code",
   "execution_count": 6,
   "metadata": {},
   "outputs": [
    {
     "name": "stdout",
     "output_type": "stream",
     "text": [
      "0.8208080808080808\n"
     ]
    }
   ],
   "source": [
    "FC1_score = FC1.predict(X_test)\n",
    "FC2_score = FC2.predict(X_test)\n",
    "FC3_score = FC3.predict(X_test)\n",
    "\n",
    "score = (FC1_score + FC2_score + FC3_score) / 3\n",
    "print(np.sum((np.argmax(score,axis=1)==y_test))/y_test.shape[0])"
   ]
  },
  {
   "cell_type": "markdown",
   "metadata": {},
   "source": [
    "Convolution Style Network"
   ]
  },
  {
   "cell_type": "code",
   "execution_count": 7,
   "metadata": {},
   "outputs": [],
   "source": [
    "Conv1 = tf.keras.models.load_model('ConvNet(9).h5')\n",
    "Conv2 = tf.keras.models.load_model('ConvNet(11).h5')\n",
    "Conv3 = tf.keras.models.load_model('ConvNet(13).h5')"
   ]
  },
  {
   "cell_type": "code",
   "execution_count": 8,
   "metadata": {},
   "outputs": [],
   "source": [
    "Conv1.compile(optimizer='adam', loss='sparse_categorical_crossentropy', metrics=['accuracy'])\n",
    "Conv2.compile(optimizer='adam', loss='sparse_categorical_crossentropy', metrics=['accuracy'])\n",
    "Conv3.compile(optimizer='adam', loss='sparse_categorical_crossentropy', metrics=['accuracy'])"
   ]
  },
  {
   "cell_type": "code",
   "execution_count": 9,
   "metadata": {},
   "outputs": [
    {
     "name": "stdout",
     "output_type": "stream",
     "text": [
      "155/155 [==============================] - 1s 8ms/step - loss: 0.5497 - accuracy: 0.8063\n",
      "[0.5496721863746643, 0.8062626123428345]\n",
      "155/155 [==============================] - 1s 9ms/step - loss: 0.5485 - accuracy: 0.7956\n",
      "[0.5485231876373291, 0.7955555319786072]\n",
      "155/155 [==============================] - 2s 11ms/step - loss: 0.5331 - accuracy: 0.8053\n",
      "[0.5331109166145325, 0.8052525520324707]\n"
     ]
    }
   ],
   "source": [
    "print(Conv1.evaluate(X_test,y_test))\n",
    "print(Conv2.evaluate(X_test,y_test))\n",
    "print(Conv3.evaluate(X_test,y_test))"
   ]
  },
  {
   "cell_type": "code",
   "execution_count": 10,
   "metadata": {},
   "outputs": [
    {
     "name": "stdout",
     "output_type": "stream",
     "text": [
      "0.8282828282828283\n"
     ]
    }
   ],
   "source": [
    "Conv1_score = Conv1.predict(X_test)\n",
    "Conv2_score = Conv2.predict(X_test)\n",
    "Conv3_score = Conv3.predict(X_test)\n",
    "\n",
    "score = (Conv1_score + Conv2_score + Conv3_score) / 3\n",
    "print(np.sum((np.argmax(score,axis=1)==y_test))/y_test.shape[0])"
   ]
  },
  {
   "cell_type": "code",
   "execution_count": 11,
   "metadata": {},
   "outputs": [],
   "source": [
    "Conv_b1 = tf.keras.models.load_model('ConvNet_best1.h5')\n",
    "Conv_b2 = tf.keras.models.load_model('ConvNet_best2.h5')\n",
    "Conv_b3 = tf.keras.models.load_model('ConvNet_best3.h5')"
   ]
  },
  {
   "cell_type": "code",
   "execution_count": 12,
   "metadata": {},
   "outputs": [],
   "source": [
    "Conv_b1.compile(optimizer='adam', loss='sparse_categorical_crossentropy', metrics=['accuracy'])\n",
    "Conv_b2.compile(optimizer='adam', loss='sparse_categorical_crossentropy', metrics=['accuracy'])\n",
    "Conv_b3.compile(optimizer='adam', loss='sparse_categorical_crossentropy', metrics=['accuracy'])"
   ]
  },
  {
   "cell_type": "code",
   "execution_count": 13,
   "metadata": {},
   "outputs": [
    {
     "name": "stdout",
     "output_type": "stream",
     "text": [
      "155/155 [==============================] - 1s 9ms/step - loss: 0.5735 - accuracy: 0.7925\n",
      "[0.5735380053520203, 0.7925252318382263]\n",
      "155/155 [==============================] - 1s 8ms/step - loss: 0.5746 - accuracy: 0.7947\n",
      "[0.5745905637741089, 0.7947474718093872]\n",
      "155/155 [==============================] - 1s 8ms/step - loss: 0.5434 - accuracy: 0.8024\n",
      "[0.5434240102767944, 0.8024242520332336]\n"
     ]
    }
   ],
   "source": [
    "print(Conv_b1.evaluate(X_test,y_test))\n",
    "print(Conv_b2.evaluate(X_test,y_test))\n",
    "print(Conv_b3.evaluate(X_test,y_test))"
   ]
  },
  {
   "cell_type": "code",
   "execution_count": 14,
   "metadata": {},
   "outputs": [
    {
     "name": "stdout",
     "output_type": "stream",
     "text": [
      "0.8151515151515152\n"
     ]
    }
   ],
   "source": [
    "Conv_b1_score = Conv_b1.predict(X_test)\n",
    "Conv_b2_score = Conv_b2.predict(X_test)\n",
    "Conv_b3_score = Conv_b3.predict(X_test)\n",
    "\n",
    "score = (Conv_b1_score + Conv_b2_score + Conv_b3_score) / 3\n",
    "print(np.sum((np.argmax(score,axis=1)==y_test))/y_test.shape[0])"
   ]
  },
  {
   "cell_type": "markdown",
   "metadata": {},
   "source": [
    "3Conv + 2Dense"
   ]
  },
  {
   "cell_type": "code",
   "execution_count": 15,
   "metadata": {},
   "outputs": [],
   "source": [
    "Mix1 = tf.keras.models.load_model('3C2D_best1.h5')\n",
    "Mix2 = tf.keras.models.load_model('3C2D_best2.h5')\n",
    "Mix3 = tf.keras.models.load_model('3C2D_best3.h5')\n",
    "Mix4 = tf.keras.models.load_model('3C2D_best4.h5')"
   ]
  },
  {
   "cell_type": "code",
   "execution_count": 16,
   "metadata": {},
   "outputs": [],
   "source": [
    "Mix1.compile(optimizer='adam', loss='sparse_categorical_crossentropy', metrics=['accuracy'])\n",
    "Mix2.compile(optimizer='adam', loss='sparse_categorical_crossentropy', metrics=['accuracy'])\n",
    "Mix3.compile(optimizer='adam', loss='sparse_categorical_crossentropy', metrics=['accuracy'])\n",
    "Mix4.compile(optimizer='adam', loss='sparse_categorical_crossentropy', metrics=['accuracy'])"
   ]
  },
  {
   "cell_type": "code",
   "execution_count": 17,
   "metadata": {},
   "outputs": [
    {
     "name": "stdout",
     "output_type": "stream",
     "text": [
      "155/155 [==============================] - 2s 11ms/step - loss: 0.5742 - accuracy: 0.7851\n",
      "[0.574232816696167, 0.7850505113601685]\n",
      "155/155 [==============================] - 2s 11ms/step - loss: 0.6006 - accuracy: 0.7776\n",
      "[0.60064297914505, 0.7775757312774658]\n",
      "155/155 [==============================] - 2s 11ms/step - loss: 0.5531 - accuracy: 0.7909\n",
      "[0.5531285405158997, 0.7909091114997864]\n",
      "155/155 [==============================] - 2s 11ms/step - loss: 0.5782 - accuracy: 0.7865\n",
      "[0.5782103538513184, 0.7864646315574646]\n"
     ]
    }
   ],
   "source": [
    "print(Mix1.evaluate(X_test,y_test))\n",
    "print(Mix2.evaluate(X_test,y_test))\n",
    "print(Mix3.evaluate(X_test,y_test))\n",
    "print(Mix4.evaluate(X_test,y_test))"
   ]
  },
  {
   "cell_type": "code",
   "execution_count": 18,
   "metadata": {},
   "outputs": [
    {
     "name": "stdout",
     "output_type": "stream",
     "text": [
      "0.8246464646464646\n"
     ]
    }
   ],
   "source": [
    "Mix1_score = Mix1.predict(X_test)\n",
    "Mix2_score = Mix2.predict(X_test)\n",
    "Mix3_score = Mix3.predict(X_test)\n",
    "Mix4_score = Mix4.predict(X_test)\n",
    "\n",
    "score = (Mix1_score + Mix2_score + Mix3_score + Mix4_score) / 4\n",
    "print(np.sum((np.argmax(score,axis=1)==y_test))/y_test.shape[0])"
   ]
  },
  {
   "cell_type": "markdown",
   "metadata": {},
   "source": [
    "AlexNet Style Network"
   ]
  },
  {
   "cell_type": "code",
   "execution_count": 19,
   "metadata": {},
   "outputs": [],
   "source": [
    "Alex1 = tf.keras.models.load_model('Alexnet_best1.h5')\n",
    "Alex2 = tf.keras.models.load_model('Alexnet_best2.h5')\n",
    "Alex3 = tf.keras.models.load_model('Alexnet_best3.h5')\n",
    "Alex4 = tf.keras.models.load_model('Alexnet_best4.h5')"
   ]
  },
  {
   "cell_type": "code",
   "execution_count": 20,
   "metadata": {},
   "outputs": [],
   "source": [
    "Alex1.compile(optimizer='adam', loss='sparse_categorical_crossentropy', metrics=['accuracy'])\n",
    "Alex2.compile(optimizer='adam', loss='sparse_categorical_crossentropy', metrics=['accuracy'])\n",
    "Alex3.compile(optimizer='adam', loss='sparse_categorical_crossentropy', metrics=['accuracy'])\n",
    "Alex4.compile(optimizer='adam', loss='sparse_categorical_crossentropy', metrics=['accuracy'])"
   ]
  },
  {
   "cell_type": "code",
   "execution_count": 21,
   "metadata": {},
   "outputs": [
    {
     "name": "stdout",
     "output_type": "stream",
     "text": [
      "155/155 [==============================] - 2s 14ms/step - loss: 0.5866 - accuracy: 0.7840\n",
      "[0.5865898132324219, 0.7840403914451599]\n",
      "155/155 [==============================] - 2s 14ms/step - loss: 0.5721 - accuracy: 0.7846\n",
      "[0.5721308588981628, 0.7846464514732361]\n",
      "155/155 [==============================] - 2s 14ms/step - loss: 0.6149 - accuracy: 0.7760\n",
      "[0.6149342060089111, 0.7759596109390259]\n",
      "155/155 [==============================] - 2s 15ms/step - loss: 0.5972 - accuracy: 0.7846\n",
      "[0.5972207188606262, 0.7846464514732361]\n"
     ]
    }
   ],
   "source": [
    "print(Alex1.evaluate(X_test,y_test))\n",
    "print(Alex2.evaluate(X_test,y_test))\n",
    "print(Alex3.evaluate(X_test,y_test))\n",
    "print(Alex4.evaluate(X_test,y_test))"
   ]
  },
  {
   "cell_type": "code",
   "execution_count": 22,
   "metadata": {},
   "outputs": [
    {
     "name": "stdout",
     "output_type": "stream",
     "text": [
      "0.8105050505050505\n"
     ]
    }
   ],
   "source": [
    "Alex1_score = Alex1.predict(X_test)\n",
    "Alex2_score = Alex2.predict(X_test)\n",
    "Alex3_score = Alex3.predict(X_test)\n",
    "Alex4_score = Alex4.predict(X_test)\n",
    "\n",
    "score = (Alex1_score + Alex2_score + Alex3_score + Alex4_score) / 4\n",
    "print(np.sum((np.argmax(score,axis=1)==y_test))/y_test.shape[0])"
   ]
  },
  {
   "cell_type": "markdown",
   "metadata": {},
   "source": [
    "ResNet Style Network"
   ]
  },
  {
   "cell_type": "code",
   "execution_count": 23,
   "metadata": {},
   "outputs": [],
   "source": [
    "Res1 = tf.keras.models.load_model('ResNet_best1.h5')\n",
    "Res2 = tf.keras.models.load_model('ResNet_best2.h5')\n",
    "Res3 = tf.keras.models.load_model('ResNet_best3.h5')\n",
    "Res4 = tf.keras.models.load_model('ResNet_best4.h5')"
   ]
  },
  {
   "cell_type": "code",
   "execution_count": 24,
   "metadata": {},
   "outputs": [],
   "source": [
    "Res1.compile(optimizer='adam', loss='sparse_categorical_crossentropy', metrics=['accuracy'])\n",
    "Res2.compile(optimizer='adam', loss='sparse_categorical_crossentropy', metrics=['accuracy'])\n",
    "Res3.compile(optimizer='adam', loss='sparse_categorical_crossentropy', metrics=['accuracy'])\n",
    "Res4.compile(optimizer='adam', loss='sparse_categorical_crossentropy', metrics=['accuracy'])"
   ]
  },
  {
   "cell_type": "code",
   "execution_count": 25,
   "metadata": {},
   "outputs": [
    {
     "name": "stdout",
     "output_type": "stream",
     "text": [
      "155/155 [==============================] - 2s 12ms/step - loss: 1.2965 - accuracy: 0.8186\n",
      "[1.2964664697647095, 0.8185858726501465]\n",
      "155/155 [==============================] - 2s 12ms/step - loss: 1.3663 - accuracy: 0.8067\n",
      "[1.3663431406021118, 0.8066666722297668]\n",
      "155/155 [==============================] - 2s 11ms/step - loss: 1.2607 - accuracy: 0.8103\n",
      "[1.2606985569000244, 0.8103030323982239]\n",
      "155/155 [==============================] - 2s 12ms/step - loss: 1.1777 - accuracy: 0.8109\n",
      "[1.177653193473816, 0.8109090924263]\n"
     ]
    }
   ],
   "source": [
    "print(Res1.evaluate(X_test,y_test))\n",
    "print(Res2.evaluate(X_test,y_test))\n",
    "print(Res3.evaluate(X_test,y_test))\n",
    "print(Res4.evaluate(X_test,y_test))"
   ]
  },
  {
   "cell_type": "code",
   "execution_count": 26,
   "metadata": {},
   "outputs": [
    {
     "name": "stdout",
     "output_type": "stream",
     "text": [
      "0.8434343434343434\n"
     ]
    }
   ],
   "source": [
    "Res1_score = Res1.predict(X_test)\n",
    "Res2_score = Res2.predict(X_test)\n",
    "Res3_score = Res3.predict(X_test)\n",
    "Res4_score = Res4.predict(X_test)\n",
    "\n",
    "score = (Res1_score + Res2_score + Res3_score + Res4_score) / 4\n",
    "print(np.sum((np.argmax(score,axis=1)==y_test))/y_test.shape[0])"
   ]
  },
  {
   "cell_type": "markdown",
   "metadata": {},
   "source": [
    "Many model combine"
   ]
  },
  {
   "cell_type": "code",
   "execution_count": 27,
   "metadata": {},
   "outputs": [
    {
     "name": "stdout",
     "output_type": "stream",
     "text": [
      "0.8478787878787879\n"
     ]
    }
   ],
   "source": [
    "# FC + Conv\n",
    "score = (FC1_score + FC2_score + Conv1_score + Conv3_score) / 4\n",
    "print(np.sum((np.argmax(score,axis=1)==y_test))/y_test.shape[0])"
   ]
  },
  {
   "cell_type": "code",
   "execution_count": 28,
   "metadata": {},
   "outputs": [
    {
     "name": "stdout",
     "output_type": "stream",
     "text": [
      "0.8272727272727273\n"
     ]
    }
   ],
   "source": [
    "# Conv + Conv_best\n",
    "score = (Conv1_score + Conv3_score + Conv_b3_score) / 3\n",
    "print(np.sum((np.argmax(score,axis=1)==y_test))/y_test.shape[0])"
   ]
  },
  {
   "cell_type": "code",
   "execution_count": 29,
   "metadata": {},
   "outputs": [
    {
     "name": "stdout",
     "output_type": "stream",
     "text": [
      "0.8507070707070707\n"
     ]
    }
   ],
   "source": [
    "# FC + Conv + Conv_best\n",
    "score = (FC1_score + FC2_score + Conv1_score + Conv3_score + Conv_b3_score) / 5\n",
    "print(np.sum((np.argmax(score,axis=1)==y_test))/y_test.shape[0])"
   ]
  },
  {
   "cell_type": "code",
   "execution_count": 30,
   "metadata": {},
   "outputs": [
    {
     "name": "stdout",
     "output_type": "stream",
     "text": [
      "0.8383838383838383\n"
     ]
    }
   ],
   "source": [
    "# 3C2D + Alex\n",
    "score = (Mix1_score + Mix3_score + Alex1_score + Alex2_score) / 4\n",
    "print(np.sum((np.argmax(score,axis=1)==y_test))/y_test.shape[0])"
   ]
  },
  {
   "cell_type": "code",
   "execution_count": 31,
   "metadata": {},
   "outputs": [
    {
     "name": "stdout",
     "output_type": "stream",
     "text": [
      "0.841010101010101\n"
     ]
    }
   ],
   "source": [
    "# 3C2D + Alex\n",
    "score = (Mix1_score + Mix3_score + Alex1_score + Alex2_score + Mix2_score + Mix4_score + Alex3_score + Alex4_score) / 8\n",
    "print(np.sum((np.argmax(score,axis=1)==y_test))/y_test.shape[0])"
   ]
  },
  {
   "cell_type": "code",
   "execution_count": 32,
   "metadata": {},
   "outputs": [
    {
     "name": "stdout",
     "output_type": "stream",
     "text": [
      "0.8515151515151516\n"
     ]
    }
   ],
   "source": [
    "# FC + Res\n",
    "score = (FC1_score + FC2_score + Res1_score + Res4_score) / 4\n",
    "print(np.sum((np.argmax(score,axis=1)==y_test))/y_test.shape[0])"
   ]
  },
  {
   "cell_type": "code",
   "execution_count": 33,
   "metadata": {},
   "outputs": [
    {
     "name": "stdout",
     "output_type": "stream",
     "text": [
      "0.8632323232323232\n"
     ]
    }
   ],
   "source": [
    "# FC + Conv + Res\n",
    "score = (FC1_score + FC2_score + Conv1_score + Conv3_score + Res1_score + Res4_score) / 6\n",
    "print(np.sum((np.argmax(score,axis=1)==y_test))/y_test.shape[0])"
   ]
  },
  {
   "cell_type": "code",
   "execution_count": 34,
   "metadata": {},
   "outputs": [
    {
     "name": "stdout",
     "output_type": "stream",
     "text": [
      "0.8585858585858586\n"
     ]
    }
   ],
   "source": [
    "# FC + Conv + Conv_best + Res\n",
    "score = (FC1_score + FC2_score + Conv1_score + Conv_b3_score + Res1_score + Res4_score) / 6\n",
    "print(np.sum((np.argmax(score,axis=1)==y_test))/y_test.shape[0])"
   ]
  },
  {
   "cell_type": "code",
   "execution_count": 35,
   "metadata": {},
   "outputs": [
    {
     "name": "stdout",
     "output_type": "stream",
     "text": [
      "0.8551515151515151\n"
     ]
    }
   ],
   "source": [
    "# FC + Res\n",
    "score = (FC1_score + FC2_score + FC3_score + Res1_score + Res2_score + Res3_score + Res4_score) / 7\n",
    "print(np.sum((np.argmax(score,axis=1)==y_test))/y_test.shape[0])"
   ]
  },
  {
   "cell_type": "code",
   "execution_count": 36,
   "metadata": {},
   "outputs": [
    {
     "name": "stdout",
     "output_type": "stream",
     "text": [
      "0.8513131313131314\n"
     ]
    }
   ],
   "source": [
    "# Conv + Res\n",
    "score = (Conv1_score + Conv2_score + Conv3_score + Res1_score + Res2_score + Res3_score + Res4_score) / 7\n",
    "print(np.sum((np.argmax(score,axis=1)==y_test))/y_test.shape[0])"
   ]
  },
  {
   "cell_type": "code",
   "execution_count": 37,
   "metadata": {},
   "outputs": [
    {
     "name": "stdout",
     "output_type": "stream",
     "text": [
      "0.8470707070707071\n"
     ]
    }
   ],
   "source": [
    "# Conv_best + Res\n",
    "score = (Conv_b1_score + Conv_b2_score + Conv_b3_score + Res1_score + Res2_score + Res3_score + Res4_score) / 7\n",
    "print(np.sum((np.argmax(score,axis=1)==y_test))/y_test.shape[0])"
   ]
  },
  {
   "cell_type": "code",
   "execution_count": 38,
   "metadata": {},
   "outputs": [
    {
     "name": "stdout",
     "output_type": "stream",
     "text": [
      "0.8565656565656565\n"
     ]
    }
   ],
   "source": [
    "# 3C2D + Res\n",
    "score = (Mix1_score + Mix2_score + Mix3_score + Mix4_score + Res1_score + Res2_score + Res3_score + Res4_score) / 8\n",
    "print(np.sum((np.argmax(score,axis=1)==y_test))/y_test.shape[0])"
   ]
  },
  {
   "cell_type": "code",
   "execution_count": 39,
   "metadata": {},
   "outputs": [
    {
     "name": "stdout",
     "output_type": "stream",
     "text": [
      "0.8442424242424242\n"
     ]
    }
   ],
   "source": [
    "# Alex + Res\n",
    "score = (Alex1_score + Alex2_score + Alex3_score + Alex4_score + Res1_score + Res2_score + Res3_score + Res4_score) / 8\n",
    "print(np.sum((np.argmax(score,axis=1)==y_test))/y_test.shape[0])"
   ]
  },
  {
   "cell_type": "markdown",
   "metadata": {},
   "source": [
    "Continuous CIR test"
   ]
  },
  {
   "cell_type": "code",
   "execution_count": 40,
   "metadata": {},
   "outputs": [
    {
     "name": "stdout",
     "output_type": "stream",
     "text": [
      "(4950, 64, 2) (4950,)\n"
     ]
    }
   ],
   "source": [
    "print(X_test.shape, y_test.shape)"
   ]
  },
  {
   "cell_type": "code",
   "execution_count": 41,
   "metadata": {},
   "outputs": [],
   "source": [
    "test_data = {}\n",
    "for i in range(6):\n",
    "    test_data[i] = np.empty((0,64,2))"
   ]
  },
  {
   "cell_type": "code",
   "execution_count": 42,
   "metadata": {},
   "outputs": [],
   "source": [
    "for k in range(y_test.shape[0]):\n",
    "    temp = X_test[k,:].reshape(1, 64, 2)\n",
    "    test_data[int(y_test[k])] = np.vstack((temp, test_data[int(y_test[k])]))"
   ]
  },
  {
   "cell_type": "code",
   "execution_count": 43,
   "metadata": {},
   "outputs": [
    {
     "name": "stdout",
     "output_type": "stream",
     "text": [
      "(825, 64, 2)\n",
      "(825, 64, 2)\n",
      "(825, 64, 2)\n",
      "(825, 64, 2)\n",
      "(825, 64, 2)\n",
      "(825, 64, 2)\n"
     ]
    }
   ],
   "source": [
    "for j in range(6):\n",
    "    print(test_data[j].shape)"
   ]
  },
  {
   "cell_type": "code",
   "execution_count": 44,
   "metadata": {},
   "outputs": [
    {
     "name": "stdout",
     "output_type": "stream",
     "text": [
      "0 accuracy :  99.51515151515152\n",
      "1 accuracy :  92.72727272727272\n",
      "2 accuracy :  82.18181818181817\n",
      "3 accuracy :  72.48484848484848\n",
      "4 accuracy :  68.72727272727272\n",
      "5 accuracy :  75.51515151515152\n",
      "1 numcase all accuracy :  81.85858585858585\n",
      "0 accuracy :  100.0\n",
      "1 accuracy :  98.30097087378641\n",
      "2 accuracy :  91.01941747572816\n",
      "3 accuracy :  83.25242718446601\n",
      "4 accuracy :  81.06796116504854\n",
      "5 accuracy :  87.13592233009709\n",
      "2 numcase all accuracy :  90.12944983818771\n",
      "0 accuracy :  100.0\n",
      "1 accuracy :  99.27272727272727\n",
      "2 accuracy :  95.27272727272728\n",
      "3 accuracy :  89.45454545454545\n",
      "4 accuracy :  85.0909090909091\n",
      "5 accuracy :  92.36363636363636\n",
      "3 numcase all accuracy :  93.57575757575756\n",
      "0 accuracy :  100.0\n",
      "1 accuracy :  100.0\n",
      "2 accuracy :  98.05825242718447\n",
      "3 accuracy :  90.77669902912622\n",
      "4 accuracy :  88.83495145631069\n",
      "5 accuracy :  95.14563106796116\n",
      "4 numcase all accuracy :  95.46925566343043\n",
      "0 accuracy :  100.0\n",
      "1 accuracy :  100.0\n",
      "2 accuracy :  100.0\n",
      "3 accuracy :  93.33333333333333\n",
      "4 accuracy :  91.51515151515152\n",
      "5 accuracy :  95.15151515151516\n",
      "5 numcase all accuracy :  96.66666666666667\n",
      "0 accuracy :  100.0\n",
      "1 accuracy :  100.0\n",
      "2 accuracy :  99.27007299270073\n",
      "3 accuracy :  94.8905109489051\n",
      "4 accuracy :  93.43065693430657\n",
      "5 accuracy :  97.08029197080292\n",
      "6 numcase all accuracy :  97.44525547445255\n",
      "0 accuracy :  100.0\n",
      "1 accuracy :  100.0\n",
      "2 accuracy :  100.0\n",
      "3 accuracy :  96.58119658119658\n",
      "4 accuracy :  92.3076923076923\n",
      "5 accuracy :  96.58119658119658\n",
      "7 numcase all accuracy :  97.57834757834758\n",
      "0 accuracy :  100.0\n",
      "1 accuracy :  100.0\n",
      "2 accuracy :  100.0\n",
      "3 accuracy :  95.14563106796116\n",
      "4 accuracy :  96.11650485436894\n",
      "5 accuracy :  100.0\n",
      "8 numcase all accuracy :  98.54368932038835\n",
      "0 accuracy :  100.0\n",
      "1 accuracy :  100.0\n",
      "2 accuracy :  100.0\n",
      "3 accuracy :  97.8021978021978\n",
      "4 accuracy :  95.6043956043956\n",
      "5 accuracy :  98.9010989010989\n",
      "9 numcase all accuracy :  98.71794871794872\n",
      "0 accuracy :  100.0\n",
      "1 accuracy :  100.0\n",
      "2 accuracy :  100.0\n",
      "3 accuracy :  100.0\n",
      "4 accuracy :  100.0\n",
      "5 accuracy :  100.0\n",
      "10 numcase all accuracy :  100.0\n"
     ]
    }
   ],
   "source": [
    "for k in range(1,11):\n",
    "    numcase = k\n",
    "    all_accuracy = 0\n",
    "\n",
    "    for i in range(6):\n",
    "        cnt = 0\n",
    "        pred_sample = Res1.predict(test_data[i])\n",
    "        for j in range(int(pred_sample.shape[0]/numcase)):\n",
    "            sum = np.sum(pred_sample[j*numcase:(j+1)*numcase],axis=0)\n",
    "            if i == np.argmax(sum):\n",
    "                cnt+=1\n",
    "        acc = cnt/int(test_data[0].shape[0]/numcase)*100\n",
    "        all_accuracy += acc\n",
    "        print(i, 'accuracy : ', acc)\n",
    "    print(k, \"numcase all accuracy : \", all_accuracy/6)    "
   ]
  },
  {
   "cell_type": "markdown",
   "metadata": {},
   "source": [
    "Error Rate"
   ]
  },
  {
   "cell_type": "code",
   "execution_count": 45,
   "metadata": {},
   "outputs": [
    {
     "name": "stdout",
     "output_type": "stream",
     "text": [
      "0.6874047225072377\n"
     ]
    }
   ],
   "source": [
    "pred_sample = Res1.predict(X_test)\n",
    "pred = np.argmax(pred_sample, axis=1)\n",
    "\n",
    "pred += 1\n",
    "y_test += 1\n",
    "\n",
    "cnt = 0\n",
    "for k in range(y_test.shape[0]):\n",
    "    dif = pred[k] - y_test[k]\n",
    "    cnt += dif * dif\n",
    "y_test -= 1\n",
    "print(np.sqrt(cnt / y_test.shape[0]))"
   ]
  },
  {
   "cell_type": "code",
   "execution_count": 46,
   "metadata": {},
   "outputs": [
    {
     "name": "stdout",
     "output_type": "stream",
     "text": [
      "0.6993503478878874\n"
     ]
    }
   ],
   "source": [
    "pred_sample = Res2.predict(X_test)\n",
    "pred = np.argmax(pred_sample, axis=1)\n",
    "\n",
    "pred += 1\n",
    "y_test += 1\n",
    "\n",
    "cnt = 0\n",
    "for k in range(y_test.shape[0]):\n",
    "    dif = pred[k] - y_test[k]\n",
    "    cnt += dif * dif\n",
    "y_test -= 1\n",
    "print(np.sqrt(cnt / y_test.shape[0]))"
   ]
  },
  {
   "cell_type": "code",
   "execution_count": 47,
   "metadata": {},
   "outputs": [
    {
     "name": "stdout",
     "output_type": "stream",
     "text": [
      "0.6804633002817294\n"
     ]
    }
   ],
   "source": [
    "pred_sample = Res3.predict(X_test)\n",
    "pred = np.argmax(pred_sample, axis=1)\n",
    "\n",
    "pred += 1\n",
    "y_test += 1\n",
    "\n",
    "cnt = 0\n",
    "for k in range(y_test.shape[0]):\n",
    "    dif = pred[k] - y_test[k]\n",
    "    cnt += dif * dif\n",
    "y_test -= 1\n",
    "print(np.sqrt(cnt / y_test.shape[0]))"
   ]
  },
  {
   "cell_type": "code",
   "execution_count": 48,
   "metadata": {},
   "outputs": [
    {
     "name": "stdout",
     "output_type": "stream",
     "text": [
      "0.6874047225072377\n"
     ]
    }
   ],
   "source": [
    "pred_sample = Res1.predict(X_test)\n",
    "pred = np.argmax(pred_sample, axis=1)\n",
    "\n",
    "pred += 1\n",
    "y_test += 1\n",
    "\n",
    "cnt = 0\n",
    "for k in range(y_test.shape[0]):\n",
    "    dif = pred[k] - y_test[k]\n",
    "    cnt += dif * dif\n",
    "y_test -= 1\n",
    "print(np.sqrt(cnt / y_test.shape[0]))"
   ]
  },
  {
   "cell_type": "code",
   "execution_count": 49,
   "metadata": {},
   "outputs": [
    {
     "name": "stdout",
     "output_type": "stream",
     "text": [
      "0.6637816362374457\n"
     ]
    }
   ],
   "source": [
    "pred_sample = FC1.predict(X_test)\n",
    "pred = np.argmax(pred_sample, axis=1)\n",
    "\n",
    "pred += 1\n",
    "y_test += 1\n",
    "\n",
    "cnt = 0\n",
    "for k in range(y_test.shape[0]):\n",
    "    dif = pred[k] - y_test[k]\n",
    "    cnt += dif * dif\n",
    "y_test -= 1\n",
    "print(np.sqrt(cnt / y_test.shape[0]))"
   ]
  },
  {
   "cell_type": "code",
   "execution_count": 50,
   "metadata": {},
   "outputs": [
    {
     "name": "stdout",
     "output_type": "stream",
     "text": [
      "0.7041005437844624\n"
     ]
    }
   ],
   "source": [
    "pred_sample = FC2.predict(X_test)\n",
    "pred = np.argmax(pred_sample, axis=1)\n",
    "\n",
    "pred += 1\n",
    "y_test += 1\n",
    "\n",
    "cnt = 0\n",
    "for k in range(y_test.shape[0]):\n",
    "    dif = pred[k] - y_test[k]\n",
    "    cnt += dif * dif\n",
    "y_test -= 1\n",
    "print(np.sqrt(cnt / y_test.shape[0]))"
   ]
  },
  {
   "cell_type": "code",
   "execution_count": 51,
   "metadata": {},
   "outputs": [
    {
     "name": "stdout",
     "output_type": "stream",
     "text": [
      "0.7183032757544656\n"
     ]
    }
   ],
   "source": [
    "pred_sample = FC3.predict(X_test)\n",
    "pred = np.argmax(pred_sample, axis=1)\n",
    "\n",
    "pred += 1\n",
    "y_test += 1\n",
    "\n",
    "cnt = 0\n",
    "for k in range(y_test.shape[0]):\n",
    "    dif = pred[k] - y_test[k]\n",
    "    cnt += dif * dif\n",
    "y_test -= 1\n",
    "print(np.sqrt(cnt / y_test.shape[0]))"
   ]
  },
  {
   "cell_type": "code",
   "execution_count": 52,
   "metadata": {},
   "outputs": [
    {
     "name": "stdout",
     "output_type": "stream",
     "text": [
      "0.717318237984686\n"
     ]
    }
   ],
   "source": [
    "pred_sample = Conv1.predict(X_test)\n",
    "pred = np.argmax(pred_sample, axis=1)\n",
    "\n",
    "pred += 1\n",
    "y_test += 1\n",
    "\n",
    "cnt = 0\n",
    "for k in range(y_test.shape[0]):\n",
    "    dif = pred[k] - y_test[k]\n",
    "    cnt += dif * dif\n",
    "y_test -= 1\n",
    "print(np.sqrt(cnt / y_test.shape[0]))"
   ]
  },
  {
   "cell_type": "code",
   "execution_count": 53,
   "metadata": {},
   "outputs": [
    {
     "name": "stdout",
     "output_type": "stream",
     "text": [
      "0.7498147919467995\n"
     ]
    }
   ],
   "source": [
    "pred_sample = Conv2.predict(X_test)\n",
    "pred = np.argmax(pred_sample, axis=1)\n",
    "\n",
    "pred += 1\n",
    "y_test += 1\n",
    "\n",
    "cnt = 0\n",
    "for k in range(y_test.shape[0]):\n",
    "    dif = pred[k] - y_test[k]\n",
    "    cnt += dif * dif\n",
    "y_test -= 1\n",
    "print(np.sqrt(cnt / y_test.shape[0]))"
   ]
  },
  {
   "cell_type": "code",
   "execution_count": 54,
   "metadata": {},
   "outputs": [
    {
     "name": "stdout",
     "output_type": "stream",
     "text": [
      "0.7122308103927598\n"
     ]
    }
   ],
   "source": [
    "pred_sample = Conv3.predict(X_test)\n",
    "pred = np.argmax(pred_sample, axis=1)\n",
    "\n",
    "pred += 1\n",
    "y_test += 1\n",
    "\n",
    "cnt = 0\n",
    "for k in range(y_test.shape[0]):\n",
    "    dif = pred[k] - y_test[k]\n",
    "    cnt += dif * dif\n",
    "y_test -= 1\n",
    "print(np.sqrt(cnt / y_test.shape[0]))"
   ]
  },
  {
   "cell_type": "code",
   "execution_count": 55,
   "metadata": {},
   "outputs": [
    {
     "name": "stdout",
     "output_type": "stream",
     "text": [
      "0.630055312627151\n"
     ]
    }
   ],
   "source": [
    "pred_sample = (Res1_score + Res2_score + Res3_score + Res4_score) / 4\n",
    "pred = np.argmax(pred_sample, axis=1)\n",
    "\n",
    "pred += 1\n",
    "y_test += 1\n",
    "\n",
    "cnt = 0\n",
    "for k in range(y_test.shape[0]):\n",
    "    dif = pred[k] - y_test[k]\n",
    "    cnt += dif * dif\n",
    "y_test -= 1\n",
    "print(np.sqrt(cnt / y_test.shape[0]))"
   ]
  },
  {
   "cell_type": "code",
   "execution_count": 56,
   "metadata": {},
   "outputs": [
    {
     "name": "stdout",
     "output_type": "stream",
     "text": [
      "0 accuracy :  7\n",
      "1 accuracy :  278\n",
      "2 accuracy :  415\n",
      "3 accuracy :  442\n",
      "4 accuracy :  416\n",
      "5 accuracy :  781\n",
      "1 numcase Error Rate :  0.6874047225072377\n",
      "0 accuracy :  0\n",
      "1 accuracy :  40\n",
      "2 accuracy :  70\n",
      "3 accuracy :  129\n",
      "4 accuracy :  109\n",
      "5 accuracy :  230\n",
      "2 numcase Error Rate :  0.3417128571881321\n",
      "0 accuracy :  0\n",
      "1 accuracy :  2\n",
      "2 accuracy :  27\n",
      "3 accuracy :  53\n",
      "4 accuracy :  55\n",
      "5 accuracy :  33\n",
      "3 numcase Error Rate :  0.18531981638085643\n",
      "0 accuracy :  0\n",
      "1 accuracy :  0\n",
      "2 accuracy :  7\n",
      "3 accuracy :  34\n",
      "4 accuracy :  23\n",
      "5 accuracy :  18\n",
      "4 numcase Error Rate :  0.12870763988845638\n",
      "0 accuracy :  0\n",
      "1 accuracy :  0\n",
      "2 accuracy :  0\n",
      "3 accuracy :  17\n",
      "4 accuracy :  14\n",
      "5 accuracy :  8\n",
      "5 numcase Error Rate :  0.08876253645985946\n",
      "0 accuracy :  0\n",
      "1 accuracy :  0\n",
      "2 accuracy :  1\n",
      "3 accuracy :  7\n",
      "4 accuracy :  9\n",
      "5 accuracy :  4\n",
      "6 numcase Error Rate :  0.06513389472789297\n",
      "0 accuracy :  0\n",
      "1 accuracy :  0\n",
      "2 accuracy :  0\n",
      "3 accuracy :  4\n",
      "4 accuracy :  9\n",
      "5 accuracy :  7\n",
      "7 numcase Error Rate :  0.06356417261637282\n",
      "0 accuracy :  0\n",
      "1 accuracy :  0\n",
      "2 accuracy :  0\n",
      "3 accuracy :  5\n",
      "4 accuracy :  4\n",
      "5 accuracy :  0\n",
      "8 numcase Error Rate :  0.04264014327112209\n",
      "0 accuracy :  0\n",
      "1 accuracy :  0\n",
      "2 accuracy :  0\n",
      "3 accuracy :  2\n",
      "4 accuracy :  4\n",
      "5 accuracy :  1\n",
      "9 numcase Error Rate :  0.03760507165451775\n",
      "0 accuracy :  0\n",
      "1 accuracy :  0\n",
      "2 accuracy :  0\n",
      "3 accuracy :  0\n",
      "4 accuracy :  0\n",
      "5 accuracy :  0\n",
      "10 numcase Error Rate :  0.0\n"
     ]
    }
   ],
   "source": [
    "for k in range(1,11):\n",
    "    numcase = k\n",
    "    all_accuracy = 0\n",
    "\n",
    "    for i in range(6):\n",
    "        cnt = 0\n",
    "        pred_sample = Res1.predict(test_data[i])\n",
    "        for j in range(int(pred_sample.shape[0]/numcase)):\n",
    "            sum = np.sum(pred_sample[j*numcase:(j+1)*numcase],axis=0)\n",
    "            dif = np.argmax(sum) - i\n",
    "            cnt += dif * dif\n",
    "        all_accuracy += cnt\n",
    "        print(i, 'accuracy : ', cnt)\n",
    "        \n",
    "    print(k, \"numcase Error Rate : \", np.sqrt(all_accuracy/y_test.shape[0]))"
   ]
  }
 ],
 "metadata": {
  "interpreter": {
   "hash": "31f2aee4e71d21fbe5cf8b01ff0e069b9275f58929596ceb00d14d90e3e16cd6"
  },
  "kernelspec": {
   "display_name": "Python 3",
   "language": "python",
   "name": "python3"
  },
  "language_info": {
   "codemirror_mode": {
    "name": "ipython",
    "version": 3
   },
   "file_extension": ".py",
   "mimetype": "text/x-python",
   "name": "python",
   "nbconvert_exporter": "python",
   "pygments_lexer": "ipython3",
   "version": "3.6.9"
  }
 },
 "nbformat": 4,
 "nbformat_minor": 2
}
